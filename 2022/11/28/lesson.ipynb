{
 "cells": [
  {
   "cell_type": "markdown",
   "metadata": {},
   "source": [
    "---\n",
    "keywords: fastai\n",
    "title: 3.1 and 3.2 Variables, Assignments, and Data Abstractions\n",
    "toc: true\n",
    "badges: true\n",
    "author: Yuri\n",
    "categories: [jupyternotebook]\n",
    "nb_path: _notebooks/2022-11-18-pythonkernel.ipynb\n",
    "layout: notebook\n",
    "---\n",
    "\n"
   ]
  },
  {
   "cell_type": "markdown",
   "metadata": {},
   "source": [
    "# 3.1 and 3.2 Variables, Assignments, and Data Abstractions\n",
    "\n",
    "# Variables\n",
    "\n",
    "## * A variable is an abstraction in a program that can hold a value\n",
    "## * Has three parts, name, value and type\n",
    "## * Meaningful variables helps readability and understanding the code\n",
    "\n",
    "# Types of data\n",
    "\n",
    "## * Integer: A number\n",
    "## * String: A word\n",
    "## * Boolean: True or False\n",
    "\n",
    "# Lists \n",
    "\n",
    "## * Print multiple values without creating many variables\n",
    "## * easily add and change values in the list\n",
    "\n",
    "# Assignments\n",
    "\n",
    "## * The assignment operator allows a program to change the value represented by a variable\n",
    "## * Used to assign values to a variable\n",
    "## * Value that is stored in the variable is the one most recently assigned to it\n",
    "\n",
    "# Data Abstraction\n",
    "\n",
    "## * Method in programing to represent data in a useful form, taking aspects of data that arent being used\n",
    "## * Variables and lists are important for data abstraction\n",
    "\n",
    "# Lists and Strings\n",
    "\n",
    "## * Element = individual value in the list\n",
    "## * Index = a way to referance elements in a list\n",
    "\n",
    "# Managing Complexity in a Program\n",
    "\n",
    "## * Data abstractions help by giving the collection a name without refrencing specific details\n",
    "\n",
    "# Ap Exam Use\n",
    "\n",
    "## * Index questions do not start at 0, but 1"
   ]
  },
  {
   "cell_type": "code",
   "execution_count": 5,
   "metadata": {},
   "outputs": [
    {
     "name": "stdout",
     "output_type": "stream",
     "text": [
      "green\n",
      "red\n",
      "pink\n",
      "purple\n",
      "blue\n",
      "brown\n"
     ]
    }
   ],
   "source": [
    "colorList=[\"green\", \"red\", \"pink\", \"purple\", \"blue\", \"brown\"]\n",
    "for i in range(len(colorList)):\n",
    "\tprint(colorList[i])"
   ]
  },
  {
   "cell_type": "code",
   "execution_count": 41,
   "metadata": {},
   "outputs": [
    {
     "name": "stdout",
     "output_type": "stream",
     "text": [
      "[55, 65, 72, 78, 78, 86, 88, 91, 92, 94]\n"
     ]
    }
   ],
   "source": [
    "# Function that Sorts test scores (takes a input of a score list)\n",
    "def sort(testScores):\n",
    "    # variable assigned to the length of the test score list\n",
    "    length=len(testScores)\n",
    "    # loops through the length of the test score list amount of times\n",
    "    for i in range(length):\n",
    "        for j in range((i+1),length):\n",
    "            # checks in order of the list if the next value is greater than it or not, and swaps places if its less than it\n",
    "            if testScores[i]>testScores[j]:\n",
    "                l1=testScores[i]\n",
    "                testScores[i]= testScores[j]\n",
    "                testScores[j]=l1\n",
    "    # once the whole list checks out, it outputs the score as a list\n",
    "    print(testScores)\n",
    "# list of scores                \n",
    "testScoresList=[78,94,72,86,65,91,92,88,78,55]\n",
    "# function being called\n",
    "sort(testScoresList)"
   ]
  }
 ],
 "metadata": {
  "kernelspec": {
   "display_name": "Python 3.9.12 ('base')",
   "language": "python",
   "name": "python3"
  },
  "language_info": {
   "codemirror_mode": {
    "name": "ipython",
    "version": 3
   },
   "file_extension": ".py",
   "mimetype": "text/x-python",
   "name": "python",
   "nbconvert_exporter": "python",
   "pygments_lexer": "ipython3",
   "version": "3.9.12"
  },
  "orig_nbformat": 4,
  "vscode": {
   "interpreter": {
    "hash": "eebbb108244c1ba77f1cb415be6e9567dfea2d09567dcc4fbd86eba351ce5445"
   }
  }
 },
 "nbformat": 4,
 "nbformat_minor": 2
}
