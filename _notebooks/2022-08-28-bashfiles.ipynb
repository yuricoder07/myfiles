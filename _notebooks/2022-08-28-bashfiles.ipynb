{
 "cells": [
  {
   "cell_type": "code",
   "execution_count": 1,
   "metadata": {
    "vscode": {
     "languageId": "shellscript"
    }
   },
   "outputs": [
    {
     "name": "stdout",
     "output_type": "stream",
     "text": [
      "Using conditional statement to create a project directory and project\n",
      "Directory /Users/yuri/vscode exists.\n",
      "Directory /Users/yuri/vscode/APCSP exists.\n"
     ]
    }
   ],
   "source": [
    "echo \"Using conditional statement to create a project directory and project\"\n",
    "\n",
    "# Variable section\n",
    "export project_dir=$HOME/vscode  # change vscode to different name to test git clone\n",
    "export project=$project_dir/APCSP  # change APCSP to name of project from git clone\n",
    "export project_repo=\"https://github.com/nighthawkcoders/APCSP.git\"  # change to project of choice\n",
    "\n",
    "cd ~    # start in home directory\n",
    "\n",
    "# Conditional block to make a project directory\n",
    "if [ ! -d $project_dir ]\n",
    "then \n",
    "    echo \"Directory $project_dir does not exists... makinng directory $project_dir\"\n",
    "    mkdir -p $project_dir\n",
    "fi\n",
    "echo \"Directory $project_dir exists.\" \n",
    "\n",
    "# Conditional block to git clone a project from project_repo\n",
    "if [ ! -d $project ]\n",
    "then\n",
    "    echo \"Directory $project does not exists... cloning $project_repo\"\n",
    "    cd $project_dir\n",
    "    git clone $project_repo\n",
    "    cd ~\n",
    "fi\n",
    "echo \"Directory $project exists.\"\n"
   ]
  },
  {
   "cell_type": "code",
   "execution_count": 15,
   "metadata": {
    "vscode": {
     "languageId": "shellscript"
    }
   },
   "outputs": [
    {
     "name": "stdout",
     "output_type": "stream",
     "text": [
      "Navigate to project, then navigate to area wwhere files were cloned\n",
      "/Users/yuri/vscode/myfiles\n",
      "\n",
      "list top level or root of files with project pulled from github\n",
      "2022-05-15-07-21-16.png\t\t_layouts\n",
      "2022-05-15-07-24-25.png\t\t_notebooks\n",
      "2022-05-15-07-25-15.png\t\t_pages\n",
      "2022-08-28-bashfiles.ipynb\t_plugins\n",
      "Gemfile\t\t\t\t_posts\n",
      "LICENSE\t\t\t\t_sass\n",
      "Makefile\t\t\t_word\n",
      "README.md\t\t\tassets\n",
      "_action_files\t\t\tdocker-compose.yml\n",
      "_config.yml\t\t\timages\n",
      "_fastpages_docs\t\t\tindex.html\n",
      "_includes\n",
      "\n",
      "list again with hidden files pulled from github\n",
      ".\t\t\t\t_action_files\n",
      "..\t\t\t\t_config.yml\n",
      ".devcontainer.json\t\t_fastpages_docs\n",
      ".git\t\t\t\t_includes\n",
      ".gitattributes\t\t\t_layouts\n",
      ".github\t\t\t\t_notebooks\n",
      ".gitignore\t\t\t_pages\n",
      ".vscode\t\t\t\t_plugins\n",
      "2022-05-15-07-21-16.png\t\t_posts\n",
      "2022-05-15-07-24-25.png\t\t_sass\n",
      "2022-05-15-07-25-15.png\t\t_word\n",
      "2022-08-28-bashfiles.ipynb\tassets\n",
      "Gemfile\t\t\t\tdocker-compose.yml\n",
      "LICENSE\t\t\t\timages\n",
      "Makefile\t\t\tindex.html\n",
      "README.md\n",
      "\n",
      "list all files in long format\n",
      "total 848\n",
      "drwxr-xr-x  31 yuri  staff     992 Aug 28 19:39 .\n",
      "drwxr-xr-x   5 yuri  staff     160 Aug 25 14:48 ..\n",
      "-rw-r--r--   1 yuri  staff     420 Aug 21 22:41 .devcontainer.json\n",
      "drwxr-xr-x  15 yuri  staff     480 Aug 28 19:24 .git\n",
      "-rw-r--r--   1 yuri  staff      84 Aug 21 22:41 .gitattributes\n",
      "drwxr-xr-x   4 yuri  staff     128 Aug 21 22:41 .github\n",
      "-rw-r--r--   1 yuri  staff     161 Aug 21 22:41 .gitignore\n",
      "drwxr-xr-x   6 yuri  staff     192 Aug 26 14:42 .vscode\n",
      "-rw-r--r--   1 yuri  staff  207007 Aug 21 22:41 2022-05-15-07-21-16.png\n",
      "-rw-r--r--   1 yuri  staff   90979 Aug 21 22:41 2022-05-15-07-24-25.png\n",
      "-rw-r--r--   1 yuri  staff   81691 Aug 21 22:41 2022-05-15-07-25-15.png\n",
      "-rw-r--r--   1 yuri  staff       0 Aug 28 19:39 2022-08-28-bashfiles.ipynb\n",
      "-rwxr-xr-x   1 yuri  staff    1304 Aug 21 22:41 Gemfile\n",
      "-rw-r--r--   1 yuri  staff   11351 Aug 21 22:41 LICENSE\n",
      "-rwxr-xr-x   1 yuri  staff    1422 Aug 21 22:41 Makefile\n",
      "-rwxr-xr-x   1 yuri  staff    3608 Aug 21 22:41 README.md\n",
      "drwxr-xr-x  18 yuri  staff     576 Aug 21 22:41 _action_files\n",
      "-rw-r--r--   1 yuri  staff    3641 Aug 24 15:17 _config.yml\n",
      "drwxr-xr-x  24 yuri  staff     768 Aug 21 22:41 _fastpages_docs\n",
      "drwxr-xr-x  27 yuri  staff     864 Aug 21 22:41 _includes\n",
      "drwxr-xr-x   6 yuri  staff     192 Aug 21 22:41 _layouts\n",
      "drwxr-xr-x   7 yuri  staff     224 Aug 21 22:41 _notebooks\n",
      "drwxr-xr-x   6 yuri  staff     192 Aug 25 14:46 _pages\n",
      "drwxr-xr-x   4 yuri  staff     128 Aug 21 22:41 _plugins\n",
      "drwxr-xr-x   7 yuri  staff     224 Aug 21 23:56 _posts\n",
      "drwxr-xr-x   3 yuri  staff      96 Aug 21 22:41 _sass\n",
      "drwxr-xr-x   3 yuri  staff      96 Aug 21 22:41 _word\n",
      "drwxr-xr-x   4 yuri  staff     128 Aug 21 22:41 assets\n",
      "-rwxr-xr-x   1 yuri  staff    1136 Aug 21 22:41 docker-compose.yml\n",
      "drwxr-xr-x   6 yuri  staff     192 Aug 28 19:15 images\n",
      "-rw-r--r--   1 yuri  staff     151 Aug 28 19:24 index.html\n"
     ]
    }
   ],
   "source": [
    "echo \"Navigate to project, then navigate to area wwhere files were cloned\"\n",
    "cd $project\n",
    "pwd\n",
    "\n",
    "echo \"\"\n",
    "echo \"list top level or root of files with project pulled from github\"\n",
    "ls\n",
    "\n",
    "echo \"\"\n",
    "echo \"list again with hidden files pulled from github\"\n",
    "ls -a   # hidden files flag, many shell commands have flags\n",
    "\n",
    "echo \"\"\n",
    "echo \"list all files in long format\"\n",
    "ls -al   # all files and long listing"
   ]
  },
  {
   "cell_type": "code",
   "execution_count": 8,
   "metadata": {
    "vscode": {
     "languageId": "shellscript"
    }
   },
   "outputs": [
    {
     "name": "stdout",
     "output_type": "stream",
     "text": [
      "Look for posts\n",
      "/Users/yuri/vscode/myfiles/_posts\n",
      "total 32\n",
      "-rwxr-xr-x  1 yuri  staff  1966 Aug 21 22:41 2020-01-14-test-markdown-post.md\n",
      "-rw-r--r--  1 yuri  staff    26 Aug 22 14:11 2022-08-21-markdown.md\n",
      "-rw-r--r--  1 yuri  staff   226 Aug 21 22:41 Post1\n",
      "-rw-r--r--  1 yuri  staff   720 Aug 21 22:41 README.md\n"
     ]
    }
   ],
   "source": [
    "echo \"Look for posts\"\n",
    "export posts=$project/_posts  # _posts inside project\n",
    "cd $posts  # this should exist per fastpages\n",
    "pwd  # present working directory\n",
    "ls -l  # list posts"
   ]
  },
  {
   "cell_type": "code",
   "execution_count": 9,
   "metadata": {
    "vscode": {
     "languageId": "shellscript"
    }
   },
   "outputs": [
    {
     "name": "stdout",
     "output_type": "stream",
     "text": [
      "Look for notebooks\n",
      "/Users/yuri/vscode/myfiles/_notebooks\n",
      "total 6200\n",
      "-rw-r--r--  1 yuri  staff  3162384 Aug 21 22:41 2020-02-20-test.ipynb\n",
      "-rw-r--r--  1 yuri  staff     1396 Aug 21 23:34 2022-08-21-padelpy.ipynb\n",
      "-rw-r--r--  1 yuri  staff      771 Aug 21 22:41 README.md\n",
      "drwxr-xr-x  4 yuri  staff      128 Aug 21 22:41 ghtop_images\n",
      "drwxr-xr-x  3 yuri  staff       96 Aug 21 22:41 my_icons\n"
     ]
    }
   ],
   "source": [
    "echo \"Look for notebooks\"\n",
    "export notebooks=$project/_notebooks  # _notebooks is inside project\n",
    "cd $notebooks   # this should exist per fastpages\n",
    "pwd  # present working directory\n",
    "ls -l  # list notebooks"
   ]
  },
  {
   "cell_type": "code",
   "execution_count": 10,
   "metadata": {
    "vscode": {
     "languageId": "shellscript"
    }
   },
   "outputs": [
    {
     "name": "stdout",
     "output_type": "stream",
     "text": [
      "Look for images in notebooks, print working directory, list files\n",
      "bash: cd: /Users/yuri/vscode/myfiles/_notebooks/images: No such file or directory\n",
      "/Users/yuri/vscode/myfiles/_notebooks\n",
      "total 6200\n",
      "-rw-r--r--  1 yuri  staff  3162384 Aug 21 22:41 2020-02-20-test.ipynb\n",
      "-rw-r--r--  1 yuri  staff     1396 Aug 21 23:34 2022-08-21-padelpy.ipynb\n",
      "-rw-r--r--  1 yuri  staff      771 Aug 21 22:41 README.md\n",
      "drwxr-xr-x  4 yuri  staff      128 Aug 21 22:41 ghtop_images\n",
      "drwxr-xr-x  3 yuri  staff       96 Aug 21 22:41 my_icons\n"
     ]
    }
   ],
   "source": [
    "echo \"Look for images in notebooks, print working directory, list files\"\n",
    "cd $notebooks/images  # this should exist per fastpages\n",
    "pwd\n",
    "ls -l"
   ]
  },
  {
   "cell_type": "code",
   "execution_count": 11,
   "metadata": {
    "vscode": {
     "languageId": "shellscript"
    }
   },
   "outputs": [
    {
     "name": "stdout",
     "output_type": "stream",
     "text": [
      "Navigate to project, then navigate to area wwhere files were cloned\n",
      "show the contents of README.md\n",
      "\n",
      "[//]: # (This template replaces README.md when someone creates a new repo with the fastpages template.)\n",
      "\n",
      "![](https://github.com/yuricoder07/myfiles/workflows/CI/badge.svg) \n",
      "![](https://github.com/yuricoder07/myfiles/workflows/GH-Pages%20Status/badge.svg) \n",
      "[![](https://img.shields.io/static/v1?label=fastai&message=fastpages&color=57aeac&labelColor=black&style=flat&logo=data:image/png;base64,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)](https://github.com/fastai/fastpages)\n",
      "\n",
      "https://yuricoder07.github.io/myfiles/\n",
      "\n",
      "# My Blog\n",
      "\n",
      "\n",
      "_powered by [fastpages](https://github.com/fastai/fastpages)_\n",
      "\n",
      "\n",
      "## What To Do Next?\n",
      "\n",
      "Great!  You have setup your repo.  Now its time to start writing content.  Some helpful links:\n",
      "\n",
      "- [Writing Blogs With Jupyter](https://github.com/fastai/fastpages#writing-blog-posts-with-jupyter)\n",
      "\n",
      "- [Writing Blogs With Markdown](https://github.com/fastai/fastpages#writing-blog-posts-with-markdown)\n",
      "\n",
      "- [Writing Blog Posts With Word](https://github.com/fastai/fastpages#writing-blog-posts-with-microsoft-word)\n",
      "\n",
      "- [(Optional) Preview Your Blog Locally](_fastpages_docs/DEVELOPMENT.md)\n",
      "\n",
      "Note: you may want to remove example blog posts from the `_posts`,  `_notebooks` or `_word` folders (but leave them empty, don't delete these folders) if you don't want these blog posts to appear on your site.\n",
      "\n",
      "Please use the [nbdev & blogging channel](https://forums.fast.ai/c/fastai-users/nbdev/48) in the fastai forums for any questions or feature requests.\n",
      "\n",
      "end of README.md\n"
     ]
    }
   ],
   "source": [
    "echo \"Navigate to project, then navigate to area wwhere files were cloned\"\n",
    "\n",
    "cd $project\n",
    "echo \"show the contents of README.md\"\n",
    "echo \"\"\n",
    "\n",
    "cat README.md  # show contents of file, in this case markdown\n",
    "echo \"\"\n",
    "echo \"end of README.md\""
   ]
  },
  {
   "cell_type": "code",
   "execution_count": 12,
   "metadata": {
    "vscode": {
     "languageId": "shellscript"
    }
   },
   "outputs": [
    {
     "name": "stdout",
     "output_type": "stream",
     "text": [
      "Show the shell environment variables, key on left of equal value on right\n",
      "\n",
      "SHELL=/bin/zsh\n",
      "TMPDIR=/var/folders/dp/rb_88xvn35x64syb1xwrdgs40000gn/T/\n",
      "CONDA_SHLVL=1\n",
      "PYTHONUNBUFFERED=1\n",
      "CONDA_PROMPT_MODIFIER=(base) \n",
      "OLDPWD=/Users/yuri/vscode/myfiles/_notebooks\n",
      "ORIGINAL_XDG_CURRENT_DESKTOP=undefined\n",
      "MallocNanoZone=0\n",
      "PYTHONIOENCODING=utf-8\n",
      "USER=yuri\n",
      "COMMAND_MODE=unix2003\n",
      "CONDA_EXE=/Users/yuri/opt/anaconda3/bin/conda\n",
      "SSH_AUTH_SOCK=/private/tmp/com.apple.launchd.7fdt04HmYf/Listeners\n",
      "__CF_USER_TEXT_ENCODING=0x1F5:0x0:0x0\n",
      "PAGER=cat\n",
      "VSCODE_AMD_ENTRYPOINT=vs/workbench/api/node/extensionHostProcess\n",
      "ELECTRON_RUN_AS_NODE=1\n",
      "_CE_CONDA=\n",
      "PATH=/Users/yuri/opt/anaconda3/bin:/Users/yuri/opt/anaconda3/condabin:/Library/Frameworks/Python.framework/Versions/2.7/bin:/Library/Frameworks/Python.framework/Versions/3.10/bin:/Library/Frameworks/Python.framework/Versions/3.9/bin:/usr/local/bin:/usr/bin:/bin:/usr/sbin:/sbin\n",
      "CONDA_PREFIX=/Users/yuri/opt/anaconda3\n",
      "__CFBundleIdentifier=com.microsoft.VSCode\n",
      "PWD=/Users/yuri/vscode/myfiles\n",
      "notebooks=/Users/yuri/vscode/myfiles/_notebooks\n",
      "VSCODE_HANDLES_UNCAUGHT_ERRORS=true\n",
      "project_repo=https://github.com/nighthawkcoders/yuricoder07.git\n",
      "project=/Users/yuri/vscode/myfiles\n",
      "project_dir=/Users/yuri/vscode\n",
      "XPC_FLAGS=0x0\n",
      "PS1=[PEXP\\[\\]ECT_PROMPT>\n",
      "_CE_M=\n",
      "XPC_SERVICE_NAME=0\n",
      "SHLVL=1\n",
      "HOME=/Users/yuri\n",
      "APPLICATION_INSIGHTS_NO_DIAGNOSTIC_CHANNEL=1\n",
      "VSCODE_NLS_CONFIG={\"locale\":\"en-us\",\"availableLanguages\":{},\"_languagePackSupport\":true}\n",
      "CONDA_PYTHON_EXE=/Users/yuri/opt/anaconda3/bin/python\n",
      "LOGNAME=yuri\n",
      "VSCODE_IPC_HOOK=/Users/yuri/Library/Application Support/Code/1.70.2-main.sock\n",
      "VSCODE_CODE_CACHE_PATH=/Users/yuri/Library/Application Support/Code/CachedData/e4503b30fc78200f846c62cf8091b76ff5547662\n",
      "CONDA_DEFAULT_ENV=base\n",
      "VSCODE_PID=14022\n",
      "posts=/Users/yuri/vscode/myfiles/_posts\n",
      "VSCODE_CWD=/\n",
      "_=/usr/bin/env\n"
     ]
    }
   ],
   "source": [
    "echo \"Show the shell environment variables, key on left of equal value on right\"\n",
    "echo \"\"\n",
    "\n",
    "env"
   ]
  },
  {
   "cell_type": "code",
   "execution_count": 13,
   "metadata": {
    "vscode": {
     "languageId": "shellscript"
    }
   },
   "outputs": [
    {
     "name": "stdout",
     "output_type": "stream",
     "text": [
      "\n",
      "show the secrets of .git\n",
      "total 80\n",
      "-rw-r--r--   1 yuri  staff     13 Aug 28 19:24 COMMIT_EDITMSG\n",
      "-rw-r--r--   1 yuri  staff    100 Aug 28 19:24 FETCH_HEAD\n",
      "-rw-r--r--   1 yuri  staff     23 Aug 21 22:41 HEAD\n",
      "-rw-r--r--   1 yuri  staff     41 Aug 28 19:24 ORIG_HEAD\n",
      "-rw-r--r--   1 yuri  staff    312 Aug 21 22:41 config\n",
      "-rw-r--r--   1 yuri  staff     73 Aug 21 22:41 description\n",
      "drwxr-xr-x  15 yuri  staff    480 Aug 21 22:41 hooks\n",
      "-rw-r--r--   1 yuri  staff  12163 Aug 28 19:24 index\n",
      "drwxr-xr-x   3 yuri  staff     96 Aug 21 22:41 info\n",
      "drwxr-xr-x   4 yuri  staff    128 Aug 21 22:41 logs\n",
      "drwxr-xr-x  86 yuri  staff   2752 Aug 28 19:24 objects\n",
      "-rw-r--r--   1 yuri  staff    184 Aug 21 22:41 packed-refs\n",
      "drwxr-xr-x   5 yuri  staff    160 Aug 21 22:41 refs\n",
      "\n",
      "look at config file\n",
      "[core]\n",
      "\trepositoryformatversion = 0\n",
      "\tfilemode = true\n",
      "\tbare = false\n",
      "\tlogallrefupdates = true\n",
      "\tignorecase = true\n",
      "\tprecomposeunicode = true\n",
      "[remote \"origin\"]\n",
      "\turl = https://github.com/yuricoder07/myfiles.git\n",
      "\tfetch = +refs/heads/*:refs/remotes/origin/*\n",
      "[branch \"master\"]\n",
      "\tremote = origin\n",
      "\tmerge = refs/heads/master\n"
     ]
    }
   ],
   "source": [
    "cd $project\n",
    "\n",
    "echo \"\"\n",
    "echo \"show the secrets of .git\"\n",
    "cd .git\n",
    "ls -l\n",
    "\n",
    "echo \"\"\n",
    "echo \"look at config file\"\n",
    "cat config"
   ]
  },
  {
   "cell_type": "code",
   "execution_count": 2,
   "metadata": {
    "vscode": {
     "languageId": "shellscript"
    }
   },
   "outputs": [
    {
     "name": "stdout",
     "output_type": "stream",
     "text": [
      "\n",
      "File listing and status\n",
      "-rw-r--r--  1 yuri  wheel  809 Aug 28 20:20 sample.md\n",
      "      15     132     809 sample.md\n",
      "bash: mdless: command not found\n"
     ]
    }
   ],
   "source": [
    "cd /tmp\n",
    "\n",
    "file=\"markdown.md\"\n",
    "if [ -f \"$file\" ]; then\n",
    "    rm $file\n",
    "fi\n",
    "\n",
    "tee -a $file >/dev/null <<EOF\n",
    "# Show Generated Markdown\n",
    "This introductory paragraph and this line and the title above are generated using tee with the standard input (<<) redirection operator.\n",
    "- This bulleted element is still part of the tee body.\n",
    "EOF\n",
    "\n",
    "echo \"- This bulleted element and lines below are generated using echo with standard output (>>) redirection operator.\" >> $file\n",
    "echo \"- The list definition, as is, is using space to seperate lines.  Thus the use of commas and hyphens in output.\" >> $file\n",
    "actions=(\"ls,list-directory\" \"cd,change-directory\" \"pwd,present-working-directory\" \"if-then-fi,test-condition\" \"env,bash-environment-variables\" \"cat,view-file-contents\" \"tee,write-to-output\" \"echo,display-content-of-string\" \"echo_text_>\\$file,write-content-to-file\" \"echo_text_>>\\$file,append-content-to-file\")\n",
    "for action in ${actions[@]}; do  # for loop is very similar to other language, though [@], semi-colon, do are new\n",
    "  action=${action//-/ }  # convert dash to space\n",
    "  action=${action//,/: } # convert comma to colon\n",
    "  action=${action//_text_/ \\\"sample text\\\" } # convert _text_ to sample text, note escape character \\ to avoid \"\" having meaning\n",
    "  echo \"    - ${action//-/ }\" >> $file  # echo is redirected to file with >>\n",
    "done\n",
    "\n",
    "echo \"\"\n",
    "echo \"File listing and status\"\n",
    "ls -l $file # list file\n",
    "wc $file   # show words\n",
    "mdless $file  # this requires installation, but renders markown from terminal\n",
    "\n",
    "rm $file  # clean up termporary file"
   ]
  },
  {
   "cell_type": "markdown",
   "metadata": {},
   "source": [
    "# My Bash And Tools Setup "
   ]
  }
 ],
 "metadata": {
  "kernelspec": {
   "display_name": "Bash",
   "language": "bash",
   "name": "bash"
  },
  "language_info": {
   "codemirror_mode": "shell",
   "file_extension": ".sh",
   "mimetype": "text/x-sh",
   "name": "bash"
  },
  "orig_nbformat": 4
 },
 "nbformat": 4,
 "nbformat_minor": 2
}
