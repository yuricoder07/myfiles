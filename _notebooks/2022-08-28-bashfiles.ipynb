{
 "cells": [
  {
   "cell_type": "markdown",
   "metadata": {
    "vscode": {
     "languageId": "shellscript"
    }
   },
   "source": [
    "# My Bash And Tools Setup\n"
   ]
  },
  {
   "cell_type": "code",
   "execution_count": 3,
   "metadata": {
    "vscode": {
     "languageId": "shellscript"
    }
   },
   "outputs": [
    {
     "name": "stdout",
     "output_type": "stream",
     "text": [
      "Using conditional statement to create a project directory and project\n",
      "Directory /Users/yuri/vscode exists.\n",
      "Directory /Users/yuri/vscode/APCSP exists.\n"
     ]
    }
   ],
   "source": [
    "echo \"Using conditional statement to create a project directory and project\"\n",
    "\n",
    "# Variable section\n",
    "export project_dir=$HOME/vscode  # change vscode to different name to test git clone\n",
    "export project=$project_dir/APCSP  # change APCSP to name of project from git clone\n",
    "export project_repo=\"https://github.com/nighthawkcoders/APCSP.git\"  # change to project of choice\n",
    "\n",
    "cd ~    # start in home directory\n",
    "\n",
    "# Conditional block to make a project directory\n",
    "if [ ! -d $project_dir ]\n",
    "then \n",
    "    echo \"Directory $project_dir does not exists... makinng directory $project_dir\"\n",
    "    mkdir -p $project_dir\n",
    "fi\n",
    "echo \"Directory $project_dir exists.\" \n",
    "\n",
    "# Conditional block to git clone a project from project_repo\n",
    "if [ ! -d $project ]\n",
    "then\n",
    "    echo \"Directory $project does not exists... cloning $project_repo\"\n",
    "    cd $project_dir\n",
    "    git clone $project_repo\n",
    "    cd ~\n",
    "fi\n",
    "echo \"Directory $project exists.\""
   ]
  },
  {
   "cell_type": "code",
   "execution_count": 4,
   "metadata": {
    "vscode": {
     "languageId": "shellscript"
    }
   },
   "outputs": [
    {
     "name": "stdout",
     "output_type": "stream",
     "text": [
      "Navigate to project, then navigate to area wwhere files were cloned\n",
      "/Users/yuri/vscode/APCSP\n",
      "\n",
      "list top level or root of files with project pulled from github\n",
      "APCSP\t\t\t_includes\t\tassets\n",
      "Gemfile\t\t\t_layouts\t\tdocker-compose.yml\n",
      "LICENSE\t\t\t_notebooks\t\timages\n",
      "Makefile\t\t_pages\t\t\tindex.html\n",
      "README.md\t\t_plugins\t\tmyfiles\n",
      "_action_files\t\t_posts\t\t\tpython\n",
      "_config.yml\t\t_sass\n",
      "_fastpages_docs\t\t_word\n",
      "\n",
      "list again with hidden files pulled from github\n",
      ".\t\t\tLICENSE\t\t\t_plugins\n",
      "..\t\t\tMakefile\t\t_posts\n",
      ".devcontainer.json\tREADME.md\t\t_sass\n",
      ".git\t\t\t_action_files\t\t_word\n",
      ".gitattributes\t\t_config.yml\t\tassets\n",
      ".github\t\t\t_fastpages_docs\t\tdocker-compose.yml\n",
      ".gitignore\t\t_includes\t\timages\n",
      ".vscode\t\t\t_layouts\t\tindex.html\n",
      "APCSP\t\t\t_notebooks\t\tmyfiles\n",
      "Gemfile\t\t\t_pages\t\t\tpython\n",
      "\n",
      "list all files in long format\n",
      "total 96\n",
      "drwxr-xr-x  30 yuri  staff    960 Aug 21 22:20 .\n",
      "drwxr-xr-x   5 yuri  staff    160 Aug 25 14:48 ..\n",
      "-rw-r--r--   1 yuri  staff    420 Aug 19 15:09 .devcontainer.json\n",
      "drwxr-xr-x  14 yuri  staff    448 Aug 25 14:53 .git\n",
      "-rw-r--r--   1 yuri  staff     84 Aug 19 15:09 .gitattributes\n",
      "drwxr-xr-x   4 yuri  staff    128 Aug 19 15:09 .github\n",
      "-rw-r--r--   1 yuri  staff    917 Aug 19 15:09 .gitignore\n",
      "drwxr-xr-x   3 yuri  staff     96 Aug 25 14:46 .vscode\n",
      "drwxr-xr-x  28 yuri  staff    896 Aug 19 15:14 APCSP\n",
      "-rwxr-xr-x   1 yuri  staff   1304 Aug 19 15:09 Gemfile\n",
      "-rw-r--r--   1 yuri  staff  11351 Aug 19 15:09 LICENSE\n",
      "-rwxr-xr-x   1 yuri  staff   1422 Aug 19 15:09 Makefile\n",
      "-rwxr-xr-x   1 yuri  staff   3614 Aug 19 15:09 README.md\n",
      "drwxr-xr-x  18 yuri  staff    576 Aug 19 15:09 _action_files\n",
      "-rw-r--r--   1 yuri  staff   3716 Aug 19 15:09 _config.yml\n",
      "drwxr-xr-x  24 yuri  staff    768 Aug 19 15:09 _fastpages_docs\n",
      "drwxr-xr-x  29 yuri  staff    928 Aug 19 15:09 _includes\n",
      "drwxr-xr-x   6 yuri  staff    192 Aug 19 15:09 _layouts\n",
      "drwxr-xr-x  13 yuri  staff    416 Aug 25 14:46 _notebooks\n",
      "drwxr-xr-x   9 yuri  staff    288 Aug 25 14:46 _pages\n",
      "drwxr-xr-x   4 yuri  staff    128 Aug 19 15:09 _plugins\n",
      "drwxr-xr-x  29 yuri  staff    928 Aug 25 14:46 _posts\n",
      "drwxr-xr-x   3 yuri  staff     96 Aug 19 15:09 _sass\n",
      "drwxr-xr-x   3 yuri  staff     96 Aug 19 15:09 _word\n",
      "drwxr-xr-x   4 yuri  staff    128 Aug 19 15:09 assets\n",
      "-rwxr-xr-x   1 yuri  staff   1136 Aug 19 15:09 docker-compose.yml\n",
      "drwxr-xr-x  52 yuri  staff   1664 Aug 25 14:46 images\n",
      "-rw-r--r--   1 yuri  staff   1061 Aug 19 15:09 index.html\n",
      "drwxr-xr-x  29 yuri  staff    928 Aug 21 22:20 myfiles\n",
      "drwxr-xr-x   3 yuri  staff     96 Aug 19 15:09 python\n"
     ]
    }
   ],
   "source": [
    "echo \"Navigate to project, then navigate to area wwhere files were cloned\"\n",
    "cd $project\n",
    "pwd\n",
    "\n",
    "echo \"\"\n",
    "echo \"list top level or root of files with project pulled from github\"\n",
    "ls\n",
    "\n",
    "echo \"\"\n",
    "echo \"list again with hidden files pulled from github\"\n",
    "ls -a   # hidden files flag, many shell commands have flags\n",
    "\n",
    "echo \"\"\n",
    "echo \"list all files in long format\"\n",
    "ls -al   # all files and long listing"
   ]
  },
  {
   "cell_type": "code",
   "execution_count": 5,
   "metadata": {
    "vscode": {
     "languageId": "shellscript"
    }
   },
   "outputs": [
    {
     "name": "stdout",
     "output_type": "stream",
     "text": [
      "Look for posts\n",
      "/Users/yuri/vscode/APCSP/_posts\n",
      "total 456\n",
      "-rw-r--r--  1 yuri  staff  21306 Aug 19 15:09 2022-06-01-TT160-deploy.md\n",
      "-rw-r--r--  1 yuri  staff   5861 Aug 19 15:09 2022-07-07-PBL-binary.md\n",
      "-rw-r--r--  1 yuri  staff   3085 Aug 19 15:09 2022-07-08-PBL-grade_calc.md\n",
      "-rw-r--r--  1 yuri  staff   3698 Aug 19 15:09 2022-07-08-PBL-graph.md\n",
      "-rw-r--r--  1 yuri  staff   5729 Aug 19 15:09 2022-07-08-PBL-life.md\n",
      "-rw-r--r--  1 yuri  staff  14387 Aug 19 15:09 2022-07-08-PBL-snake.md\n",
      "-rw-r--r--  1 yuri  staff    334 Aug 19 15:09 2022-07-10-PBL-database.md\n",
      "-rw-r--r--  1 yuri  staff   2908 Aug 19 15:09 2022-07-10-PBL-jokes.md\n",
      "-rw-r--r--  1 yuri  staff   4046 Aug 19 15:09 2022-07-10-PBL-rapidapi.md\n",
      "-rw-r--r--  1 yuri  staff   6685 Aug 19 15:09 2022-07-19-PBL-calculator.md\n",
      "-rw-r--r--  1 yuri  staff  23325 Aug 19 15:09 2022-07-25-CSP-workshop.md\n",
      "-rw-r--r--  1 yuri  staff   2333 Aug 19 15:09 2022-08-15-TP000-student_score_history.md\n",
      "-rw-r--r--  1 yuri  staff   4363 Aug 19 15:09 2022-08-15-TP100-pseudo_code.md\n",
      "-rw-r--r--  1 yuri  staff   7968 Aug 19 15:09 2022-08-15-TR100-tool_setup.md\n",
      "-rw-r--r--  1 yuri  staff  15026 Aug 19 15:09 2022-08-15-TT100-tools.md\n",
      "-rw-r--r--  1 yuri  staff   5590 Aug 19 15:09 2022-08-15-TT101-vscode-wsl.md\n",
      "-rw-r--r--  1 yuri  staff   2155 Aug 25 14:46 2022-08-22-TR110-intro_python.md\n",
      "-rw-r--r--  1 yuri  staff   5173 Aug 19 15:09 2022-08-22-TT110-fastpages.md\n",
      "-rw-r--r--  1 yuri  staff   2798 Aug 25 14:46 2022-08-22-TT110-focus.md\n",
      "-rw-r--r--  1 yuri  staff   2737 Aug 19 15:09 2022-08-29-TR120-data_abstract.md\n",
      "-rw-r--r--  1 yuri  staff  10683 Aug 19 15:09 2022-08-29-TT120-agile.md\n",
      "-rw-r--r--  1 yuri  staff   4498 Aug 19 15:09 2022-08-29-TT120-html_fragments.md\n",
      "-rw-r--r--  1 yuri  staff   9037 Aug 19 15:09 2022-09-05-TP130-create_performance_task.md\n",
      "-rw-r--r--  1 yuri  staff   7753 Aug 19 15:09 2022-09-05-TP131-create-task-bria.md\n",
      "-rw-r--r--  1 yuri  staff   8066 Aug 19 15:09 2022-09-05-TR130-creative_development.md\n",
      "-rw-r--r--  1 yuri  staff   3520 Aug 19 15:09 2022-09-05-TT130-applab.md\n",
      "-rw-r--r--  1 yuri  staff    720 Aug 19 15:09 README.md\n"
     ]
    }
   ],
   "source": [
    "echo \"Look for posts\"\n",
    "export posts=$project/_posts  # _posts inside project\n",
    "cd $posts  # this should exist per fastpages\n",
    "pwd  # present working directory\n",
    "ls -l  # list posts"
   ]
  },
  {
   "cell_type": "code",
   "execution_count": 6,
   "metadata": {
    "vscode": {
     "languageId": "shellscript"
    }
   },
   "outputs": [
    {
     "name": "stdout",
     "output_type": "stream",
     "text": [
      "Look for notebooks\n",
      "/Users/yuri/vscode/APCSP/_notebooks\n",
      "total 280\n",
      "-rw-r--r--  1 yuri  staff  14243 Aug 19 15:09 2022-06-01-TT150-webapi_tutorial.ipynb\n",
      "-rw-r--r--  1 yuri  staff   8653 Aug 19 15:09 2022-07-21-PBL-neo4j_intro.ipynb\n",
      "-rw-r--r--  1 yuri  staff  11694 Aug 25 14:46 2022-08-22-TP110-python_hello.ipynb\n",
      "-rw-r--r--  1 yuri  staff  20003 Aug 25 14:46 2022-08-22-TT110-anthony_and_sahil.ipynb\n",
      "-rw-r--r--  1 yuri  staff   9525 Aug 25 14:46 2022-08-22-TT110-bash_tutorial.ipynb\n",
      "-rw-r--r--  1 yuri  staff  35721 Aug 25 14:46 2022-08-25-tool_check.ipynb\n",
      "-rw-r--r--  1 yuri  staff  10141 Aug 19 15:09 2022-08-29-TP120-python_lists.ipynb\n",
      "-rw-r--r--  1 yuri  staff  12632 Aug 19 15:09 2022-09-05-TT130-js_tutorial.ipynb\n",
      "-rw-r--r--  1 yuri  staff    771 Aug 19 15:09 README.md\n",
      "drwxr-xr-x  3 yuri  staff     96 Aug 25 14:46 images\n"
     ]
    }
   ],
   "source": [
    "echo \"Look for notebooks\"\n",
    "export notebooks=$project/_notebooks  # _notebooks is inside project\n",
    "cd $notebooks   # this should exist per fastpages\n",
    "pwd  # present working directory\n",
    "ls -l  # list notebooks"
   ]
  },
  {
   "cell_type": "code",
   "execution_count": 7,
   "metadata": {
    "vscode": {
     "languageId": "shellscript"
    }
   },
   "outputs": [
    {
     "name": "stdout",
     "output_type": "stream",
     "text": [
      "Look for images in notebooks, print working directory, list files\n",
      "/Users/yuri/vscode/APCSP/_notebooks/images\n",
      "total 200\n",
      "-rw-r--r--  1 yuri  staff  101617 Aug 25 14:46 kernels.png\n"
     ]
    }
   ],
   "source": [
    "echo \"Look for images in notebooks, print working directory, list files\"\n",
    "cd $notebooks/images  # this should exist per fastpages\n",
    "pwd\n",
    "ls -l"
   ]
  },
  {
   "cell_type": "code",
   "execution_count": 8,
   "metadata": {
    "vscode": {
     "languageId": "shellscript"
    }
   },
   "outputs": [
    {
     "name": "stdout",
     "output_type": "stream",
     "text": [
      "Navigate to project, then navigate to area wwhere files were cloned\n",
      "show the contents of README.md\n",
      "\n",
      "[//]: # (This template replaces README.md when someone creates a new repo with the fastpages template.)\n",
      "\n",
      "![](https://github.com/nighthawkcoders/APCSP/workflows/CI/badge.svg) \n",
      "![](https://github.com/nighthawkcoders/APCSP/workflows/GH-Pages%20Status/badge.svg) \n",
      "[![](https://img.shields.io/static/v1?label=fastai&message=fastpages&color=57aeac&labelColor=black&style=flat&logo=data:image/png;base64,iVBORw0KGgoAAAANSUhEUgAAABkAAAAjCAYAAABhCKGoAAAGMklEQVR42q1Xa0xTVxyfKExlui9blszoB12yDzPGzJhtyT5s+zBxUxELBQSHm2ZzU5epBF/LclXae29pCxR5VEGgLQUuIOKDuClhm8oUK7S9ve19tLTl/fA5p9MNc/Y/hRYEzGLxJL/87zk9Ob/zf5++NGHMALzYgdDYmWh0Qly3Lybtwi6lXdpN2cWN5A0+hrQKe5R2PoN2uD+OKcn/UF5ZsVduMmyXVRi+jzebdmI5/juhwrgj3mTI2GA0vvsUIcMwM7GkOD42t7Mf6bqHkFry2yk7X5PXcxMVDN5DGtFf9NkJfe6W5iaUyFShjfV1KPlk7VPAa0k11WjzL+eRvMJ4IKQO0dw8SydJL+Op0u5cn+3tQTn+fqTivTbQpiavF0iG7iGt6NevKjpKpTbUo3hj+QO47XB8hfHfIGAelA+T6mqQzFi+e0oTKm3iexQnXaU56ZrK5SlVsq70LMF7TuX0XNTyvi1rThzLST3TgOCgxwD0DPwDGoE07QkcSl/m5ynbHWmZVm6b0sp9o2DZN8aTZtqk9w9b2G2HLbbvsjlx+fry0vwU0OS5SH68Ylmilny3c3x9SOvpRuQN7hO8vqulZQ6WJMuXFAzcRfkDd5BG8B1bpc+nU0+fQtgkYLIngOEJwGt/J9UxCIJg1whJ05Ul4IMejbsLqUUfOjJKQnCDr4ySHMeO1/UMIa3UmR9TUpj7ZdMFJK8yo6RaZjLAF/JqM/rifCO+yP4AycGmlgUaT9cZ0OYP2um5prjBLhtvLhy68Fs7RFqbRvSlf15ybGdyLcPJmcpfIcIuT4nqqt+Sa2vaZaby1FB+JGi1c9INhuiv9fpIysItIh3CVgVAzXfEE1evzse/bwr8bolcAXs+zcqKXksQc5+FD2D/svT06I8IYtaUeZLZzsVm+3oRDmON1Ok/2NKyIJSs0xnj84RknXG6zgGEE1It+rsPtrYuDOxBKAJLrO1qnW7+OpqeNxF4HWv6v4Rql3uFRvL/DATnc/29x4lmy2t4fXVjY+ASGwylm8DBvkSm2gpgx1Bpg4hyyysqVoUuFRw0z8+jXe40yiFsp1lpC9navlJpE9JIh7RVwfJywmKZO4Hkh02NZ1FilfkJLi1B4GhLPduAZGazHO9LGDX/WAj7+npzwUQqvuOBoo1Va91dj3Tdgyinc0Dae+HyIrxvc2npbCxlxrJvcW3CeSKDMhKCoexRYnUlSqg0xU0iIS5dXwzm6c/x9iKKEx8q2lkV5RARJCcm9We2sgsZhGZmgMYjJOU7UhpOIqhRwwlmEwrBZHgCBRKkKX4ySVvbmzQnXoSDHWCyS6SV20Ha+VaSFTiSE8/ttVheDe4NarLxVB1kdE0fYAgjGaOWGYD1vxKrqmInkSBchRkmiuC4KILhonAo4+9gWVHYnElQMEsAxbRDSHtp7dq5CRWly2VlZe/EFRcvDcBQvBTPZeXly1JMpvlThzBBRASBoDsSBIpgOBQV6C+sUJzffwflQX8BTevCTZMZeoslUo9QJJZYTZDw3RuIKtIhlhXdfhDoJ7TTXY/XdBBpgUshwFMSRYTVwim7FJvt6aFyOnoVKqc7MZQDzzNwsmnd3UegCudl8R2qzHZ7bJbQoYGyn692+zMULCfXenoOacTOTBUnJYRFsq+5+a3sjp5BXM6hEz7ObHNoVEIHyocekiX6WIiykwWDd1HhzT8RzY2YqxnK0HNQBJtW500ddiwrDgdIeCABZ4MPnKQdk9xDhUP3wfHSqbBI9v/e9jo0Iy30cCOgAMyVgMMVCMwql/cQxfKp2R1dWWrRm0PzUkrIXC9ykDY+hnJ5DqkE709guriwSRgGzWTQCPABWJZ6vbNHQlgo099+CCEMPnF6xnwynYETEWd8ls0WPUpSWnTrfuAhAWacPslUiQRNLBGXFSA7TrL8V3gNhesTnLFY0jb+bYWVp0i7SClY184jVtcayi7so2yuA0r4npbjsV8CJHZhPQ7no323cJ5w8FqpLwR/YJNRnHs0hNGs6ZFw/Lpsb+9oj/dZSbuL0XUNojx4d9Gch5mOT0ImINsdKyHzT9Muz1lcXhRWbo9a8J3B72H8Lg6+bKb1hyWMPeERBXMGRxEBCM7Ddfh/1jDuWhb5+QkAAAAASUVORK5CYII=)](https://github.com/fastai/fastpages)\n",
      "\n",
      "https://nighthawkcoders.github.io/APCSP/\n",
      "\n",
      "# My Blog\n",
      "\n",
      "\n",
      "_powered by [fastpages](https://github.com/fastai/fastpages)_\n",
      "\n",
      "\n",
      "## What To Do Next?\n",
      "\n",
      "Great!  You have setup your repo.  Now its time to start writing content.  Some helpful links:\n",
      "\n",
      "- [Writing Blogs With Jupyter](https://github.com/fastai/fastpages#writing-blog-posts-with-jupyter)\n",
      "\n",
      "- [Writing Blogs With Markdown](https://github.com/fastai/fastpages#writing-blog-posts-with-markdown)\n",
      "\n",
      "- [Writing Blog Posts With Word](https://github.com/fastai/fastpages#writing-blog-posts-with-microsoft-word)\n",
      "\n",
      "- [(Optional) Preview Your Blog Locally](_fastpages_docs/DEVELOPMENT.md)\n",
      "\n",
      "Note: you may want to remove example blog posts from the `_posts`,  `_notebooks` or `_word` folders (but leave them empty, don't delete these folders) if you don't want these blog posts to appear on your site.\n",
      "\n",
      "Please use the [nbdev & blogging channel](https://forums.fast.ai/c/fastai-users/nbdev/48) in the fastai forums for any questions or feature requests.\n",
      "\n",
      "end of README.md\n"
     ]
    }
   ],
   "source": [
    "echo \"Navigate to project, then navigate to area wwhere files were cloned\"\n",
    "\n",
    "cd $project\n",
    "echo \"show the contents of README.md\"\n",
    "echo \"\"\n",
    "\n",
    "cat README.md  # show contents of file, in this case markdown\n",
    "echo \"\"\n",
    "echo \"end of README.md\""
   ]
  },
  {
   "cell_type": "code",
   "execution_count": 9,
   "metadata": {
    "vscode": {
     "languageId": "shellscript"
    }
   },
   "outputs": [
    {
     "name": "stdout",
     "output_type": "stream",
     "text": [
      "Show the shell environment variables, key on left of equal value on right\n",
      "\n",
      "SHELL=/bin/zsh\n",
      "TMPDIR=/var/folders/dp/rb_88xvn35x64syb1xwrdgs40000gn/T/\n",
      "CONDA_SHLVL=1\n",
      "PYTHONUNBUFFERED=1\n",
      "CONDA_PROMPT_MODIFIER=(base) \n",
      "OLDPWD=/Users/yuri/vscode/APCSP/_notebooks/images\n",
      "ORIGINAL_XDG_CURRENT_DESKTOP=undefined\n",
      "MallocNanoZone=0\n",
      "PYTHONIOENCODING=utf-8\n",
      "USER=yuri\n",
      "COMMAND_MODE=unix2003\n",
      "CONDA_EXE=/Users/yuri/opt/anaconda3/bin/conda\n",
      "SSH_AUTH_SOCK=/private/tmp/com.apple.launchd.7fdt04HmYf/Listeners\n",
      "__CF_USER_TEXT_ENCODING=0x1F5:0x0:0x0\n",
      "PAGER=cat\n",
      "VSCODE_AMD_ENTRYPOINT=vs/workbench/api/node/extensionHostProcess\n",
      "ELECTRON_RUN_AS_NODE=1\n",
      "_CE_CONDA=\n",
      "PATH=/Users/yuri/opt/anaconda3/bin:/Users/yuri/opt/anaconda3/condabin:/Library/Frameworks/Python.framework/Versions/2.7/bin:/Library/Frameworks/Python.framework/Versions/3.10/bin:/Library/Frameworks/Python.framework/Versions/3.9/bin:/usr/local/bin:/usr/bin:/bin:/usr/sbin:/sbin\n",
      "CONDA_PREFIX=/Users/yuri/opt/anaconda3\n",
      "__CFBundleIdentifier=com.microsoft.VSCode\n",
      "PWD=/Users/yuri/vscode/APCSP\n",
      "notebooks=/Users/yuri/vscode/APCSP/_notebooks\n",
      "VSCODE_HANDLES_UNCAUGHT_ERRORS=true\n",
      "project_repo=https://github.com/nighthawkcoders/APCSP.git\n",
      "project=/Users/yuri/vscode/APCSP\n",
      "project_dir=/Users/yuri/vscode\n",
      "XPC_FLAGS=0x0\n",
      "PS1=[PEXP\\[\\]ECT_PROMPT>\n",
      "_CE_M=\n",
      "XPC_SERVICE_NAME=0\n",
      "SHLVL=1\n",
      "HOME=/Users/yuri\n",
      "APPLICATION_INSIGHTS_NO_DIAGNOSTIC_CHANNEL=1\n",
      "VSCODE_NLS_CONFIG={\"locale\":\"en-us\",\"availableLanguages\":{},\"_languagePackSupport\":true}\n",
      "CONDA_PYTHON_EXE=/Users/yuri/opt/anaconda3/bin/python\n",
      "LOGNAME=yuri\n",
      "VSCODE_IPC_HOOK=/Users/yuri/Library/Application Support/Code/1.70.2-main.sock\n",
      "VSCODE_CODE_CACHE_PATH=/Users/yuri/Library/Application Support/Code/CachedData/e4503b30fc78200f846c62cf8091b76ff5547662\n",
      "CONDA_DEFAULT_ENV=base\n",
      "VSCODE_PID=14022\n",
      "posts=/Users/yuri/vscode/APCSP/_posts\n",
      "VSCODE_CWD=/\n",
      "_=/usr/bin/env\n"
     ]
    }
   ],
   "source": [
    "echo \"Show the shell environment variables, key on left of equal value on right\"\n",
    "echo \"\"\n",
    "\n",
    "env"
   ]
  },
  {
   "cell_type": "code",
   "execution_count": 10,
   "metadata": {
    "vscode": {
     "languageId": "shellscript"
    }
   },
   "outputs": [
    {
     "name": "stdout",
     "output_type": "stream",
     "text": [
      "\n",
      "show the secrets of .git\n",
      "total 88\n",
      "-rw-r--r--   1 yuri  staff    102 Aug 25 14:53 FETCH_HEAD\n",
      "-rw-r--r--   1 yuri  staff     23 Aug 19 15:09 HEAD\n",
      "-rw-r--r--   1 yuri  staff     41 Aug 25 14:53 ORIG_HEAD\n",
      "-rw-r--r--   1 yuri  staff    314 Aug 19 15:09 config\n",
      "-rw-r--r--   1 yuri  staff     73 Aug 19 15:09 description\n",
      "drwxr-xr-x  15 yuri  staff    480 Aug 19 15:09 hooks\n",
      "-rw-r--r--   1 yuri  staff  20021 Aug 25 14:46 index\n",
      "drwxr-xr-x   3 yuri  staff     96 Aug 19 15:09 info\n",
      "drwxr-xr-x   4 yuri  staff    128 Aug 19 15:09 logs\n",
      "drwxr-xr-x   4 yuri  staff    128 Aug 25 14:53 objects\n",
      "-rw-r--r--   1 yuri  staff    271 Aug 19 15:09 packed-refs\n",
      "drwxr-xr-x   5 yuri  staff    160 Aug 19 15:09 refs\n",
      "\n",
      "look at config file\n",
      "[core]\n",
      "\trepositoryformatversion = 0\n",
      "\tfilemode = true\n",
      "\tbare = false\n",
      "\tlogallrefupdates = true\n",
      "\tignorecase = true\n",
      "\tprecomposeunicode = true\n",
      "[remote \"origin\"]\n",
      "\turl = https://github.com/nighthawkcoders/APCSP.git\n",
      "\tfetch = +refs/heads/*:refs/remotes/origin/*\n",
      "[branch \"master\"]\n",
      "\tremote = origin\n",
      "\tmerge = refs/heads/master\n"
     ]
    }
   ],
   "source": [
    "cd $project\n",
    "\n",
    "echo \"\"\n",
    "echo \"show the secrets of .git\"\n",
    "cd .git\n",
    "ls -l\n",
    "\n",
    "echo \"\"\n",
    "echo \"look at config file\"\n",
    "cat config"
   ]
  }
 ],
 "metadata": {
  "kernelspec": {
   "display_name": "Bash",
   "language": "bash",
   "name": "bash"
  },
  "language_info": {
   "codemirror_mode": "shell",
   "file_extension": ".sh",
   "mimetype": "text/x-sh",
   "name": "bash"
  },
  "orig_nbformat": 4
 },
 "nbformat": 4,
 "nbformat_minor": 2
}
