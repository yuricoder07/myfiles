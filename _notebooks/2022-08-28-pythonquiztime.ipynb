{
 "cells": [
  {
   "cell_type": "markdown",
   "metadata": {},
   "source": [
    "# Quiz Time!"
   ]
  },
  {
   "cell_type": "code",
   "execution_count": 2,
   "metadata": {},
   "outputs": [
    {
     "name": "stdout",
     "output_type": "stream",
     "text": [
      "nice job that's correct\n",
      "nice job that's correct\n",
      "nice job that's correct\n"
     ]
    }
   ],
   "source": [
    "points= 0\n",
    "answer = input(\"What does INT stand for? \")\n",
    "\n",
    "\n",
    "if answer == \"Integer\":\n",
    "    print (\"nice job that's correct\")\n",
    "    points += 1\n",
    "else:\n",
    "     print (\"sorry that's incorrect\")\n",
    "     points -= 0\n",
    "\n",
    "answer = input(\"What does STR stand for? \")\n",
    "\n",
    "if answer == \"String\":\n",
    "    print (\"nice job that's correct\")\n",
    "    points += 1\n",
    "else:\n",
    "     print (\"sorry that's incorrect\")\n",
    "     points -= 0\n",
    "answer = input(\"What is the function used for outputing into a terminal\")\n",
    "\n",
    "if answer == \"print\":\n",
    "    print (\"nice job that's correct\")\n",
    "    points += 1\n",
    "else:\n",
    "     print (\"sorry that's incorrect\")\n",
    "     points -= 0\n"
   ]
  }
 ],
 "metadata": {
  "kernelspec": {
   "display_name": "Python 3.10.5 64-bit",
   "language": "python",
   "name": "python3"
  },
  "language_info": {
   "codemirror_mode": {
    "name": "ipython",
    "version": 3
   },
   "file_extension": ".py",
   "mimetype": "text/x-python",
   "name": "python",
   "nbconvert_exporter": "python",
   "pygments_lexer": "ipython3",
   "version": "3.10.6"
  },
  "orig_nbformat": 4,
  "vscode": {
   "interpreter": {
    "hash": "aee8b7b246df8f9039afb4144a1f6fd8d2ca17a180786b69acc140d282b71a49"
   }
  }
 },
 "nbformat": 4,
 "nbformat_minor": 2
}
