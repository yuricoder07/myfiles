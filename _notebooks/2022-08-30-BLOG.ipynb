{
 "cells": [
  {
   "cell_type": "markdown",
   "metadata": {},
   "source": [
    "# List and Dictionary Hacks\n",
    "> Week 2 Hacks\n",
    "- title: Python Dictionaries\n",
    "- toc: true\n",
    "- badges: true\n",
    "- author: Yuri\n",
    "- categories: [PythonCode]\n",
    "\n"
   ]
  },
  {
   "cell_type": "code",
   "execution_count": 6,
   "metadata": {},
   "outputs": [
    {
     "name": "stdout",
     "output_type": "stream",
     "text": [
      "[{'FirstName': 'Yuri', 'LastNameInitial': 'S.', 'DOB': 'Janurary 3', 'Residence': 'San Diego', 'Family Members': '4', 'Age': '15'}, {'FirstName': 'Tanay', 'LastNameInitial': 'P.', 'DOB': 'July 24', 'Residence': 'San Diego', 'Family Members': '3', 'Age': '15'}]\n",
      "Looped data below \n",
      "\n",
      "Yuri S.\n",
      "\t DOB: Janurary 3\n",
      "\t Residence: San Diego\n",
      "\t Family Members: 4\n",
      "\t Age: 15\n",
      "\n",
      "Tanay P.\n",
      "\t DOB: July 24\n",
      "\t Residence: San Diego\n",
      "\t Family Members: 3\n",
      "\t Age: 15\n",
      "\n"
     ]
    }
   ],
   "source": [
    "myDict = []\n",
    "\n",
    "#my dictionary below\n",
    "myDict.append({\n",
    "    \"FirstName\": \"Yuri\",\n",
    "    \"LastNameInitial\": \"S.\",\n",
    "    \"DOB\": \"Janurary 3\",\n",
    "    \"Residence\": \"San Diego\",\n",
    "    \"Family Members\": \"4\",\n",
    "    \"Age\": \"15\"\n",
    "})\n",
    "myDict.append({\n",
    "    \"FirstName\": \"Tanay\",\n",
    "    \"LastNameInitial\": \"P.\",\n",
    "    \"DOB\": \"July 24\",\n",
    "    \"Residence\": \"San Diego\",\n",
    "    \"Family Members\": \"3\",\n",
    "    \"Age\": \"15\"\n",
    "})\n",
    "print(myDict)\n",
    "\n",
    "def print_data(d_rec):\n",
    "    print(d_rec[\"FirstName\"], d_rec[\"LastNameInitial\"])  # using comma puts space between values\n",
    "    print(\"\\t\", \"DOB:\", d_rec[\"DOB\"]) # \\t is a tab indent\n",
    "    print(\"\\t\", \"Residence:\", d_rec[\"Residence\"]) # \\t is a tab indent\n",
    "    print(\"\\t\", \"Family Members:\", d_rec[\"Family Members\"]) # \\t is a tab indent\n",
    "    print(\"\\t\", \"Age:\", d_rec[\"Age\"]) # \\t is a tab indent\n",
    "    print()\n",
    "\n",
    "\n",
    "\n",
    "def loop_data():\n",
    "\tprint(\"Looped data below \\n\")\n",
    "\tfor i in myDict:\n",
    "        \tprint_data(i)\n",
    "loop_data()"
   ]
  },
  {
   "cell_type": "code",
   "execution_count": 11,
   "metadata": {},
   "outputs": [
    {
     "name": "stdout",
     "output_type": "stream",
     "text": [
      "{'FirstName': 'Tanay', 'LastNameInitial': 'P.', 'DOB': 'July 24', 'Residence': 'San Diego', 'Family Members': '3', 'Age': '15'}\n",
      "{'FirstName': 'Yuri', 'LastNameInitial': 'S.', 'DOB': 'Janurary 3', 'Residence': 'San Diego', 'Family Members': '4', 'Age': '15'}\n"
     ]
    }
   ],
   "source": [
    "myDict = []\n",
    "\n",
    "#my dictionary below\n",
    "myDict.append({\n",
    "    \"FirstName\": \"Yuri\",\n",
    "    \"LastNameInitial\": \"S.\",\n",
    "    \"DOB\": \"Janurary 3\",\n",
    "    \"Residence\": \"San Diego\",\n",
    "    \"Family Members\": \"4\",\n",
    "    \"Age\": \"15\"\n",
    "})\n",
    "myDict.append({\n",
    "    \"FirstName\": \"Tanay\",\n",
    "    \"LastNameInitial\": \"P.\",\n",
    "    \"DOB\": \"July 24\",\n",
    "    \"Residence\": \"San Diego\",\n",
    "    \"Family Members\": \"3\",\n",
    "    \"Age\": \"15\"\n",
    "})\n",
    "\n",
    "for i in range(len(myDict)):\n",
    "    print(myDict[i-1])\n",
    "\n"
   ]
  },
  {
   "cell_type": "code",
   "execution_count": 66,
   "metadata": {},
   "outputs": [
    {
     "name": "stdout",
     "output_type": "stream",
     "text": [
      "Correct\n",
      "Correct\n",
      "Correct\n",
      "3\n"
     ]
    }
   ],
   "source": [
    "#Dictionary\n",
    "dictionary = ({\n",
    "\t\"What does STR stand for in python? \": \"String\",\n",
    "\t\"What does INT stand for in python? \": \"Integer\",\n",
    "\t\"What function prints anything into the terminal? \": \"Print\",\n",
    "})\n",
    "#scoring system\n",
    "score = 0\n",
    "\n",
    "\n",
    "for key,value in dictionary.items():\n",
    "  questions = input(f\"{key}\")\n",
    "  if questions == value:\n",
    "    print(\"Correct\")\n",
    "    score += 1\n",
    "  else:\n",
    "    print(\"Incorrect\")\n",
    "print(score)"
   ]
  }
 ],
 "metadata": {
  "kernelspec": {
   "display_name": "Python 3.10.6 64-bit",
   "language": "python",
   "name": "python3"
  },
  "language_info": {
   "codemirror_mode": {
    "name": "ipython",
    "version": 3
   },
   "file_extension": ".py",
   "mimetype": "text/x-python",
   "name": "python",
   "nbconvert_exporter": "python",
   "pygments_lexer": "ipython3",
   "version": "3.10.6"
  },
  "orig_nbformat": 4,
  "vscode": {
   "interpreter": {
    "hash": "aee8b7b246df8f9039afb4144a1f6fd8d2ca17a180786b69acc140d282b71a49"
   }
  }
 },
 "nbformat": 4,
 "nbformat_minor": 2
}
