{
 "cells": [
  {
   "cell_type": "markdown",
   "metadata": {},
   "source": [
    "# Using JS to create HTML table\n",
    "- title: Using JS to create HTML\n",
    "- toc: true\n",
    "- badges: true\n",
    "- author: Yuri\n",
    "- categories: [jupyternotebook]"
   ]
  },
  {
   "cell_type": "code",
   "execution_count": 26,
   "metadata": {},
   "outputs": [
    {
     "data": {
      "text/html": [
       "<div style='display:inline-block;border: 2px solid grey;box-shadow: 0.8em 0.4em 0.4em grey;'><table><tr><th><mark>Name</mark></th><th><mark>Role</mark></th></tr><tr><td>Yuri<td>DevOps</td><tr><tr><td>Tanay<td>Scrum Master</td><tr><tr><td>Harsha<td>Frontend</td><tr><tr><td>Sachit<td>Backend</td><tr><tr><td>Raunak<td>Backend</td><tr></table></div>"
      ]
     },
     "execution_count": 26,
     "metadata": {},
     "output_type": "execute_result"
    }
   ],
   "source": [
    "//Define data\n",
    "function Person(name, role) {\n",
    "\tthis.name = name;\n",
    "\tthis.role = role;\n",
    "    }\n",
    "\n",
    "Person.prototype.setRole = function(role) {\n",
    "\tthis.role = role;\n",
    "    }\n",
    "Person.prototype.toJSON = function() {\n",
    "\tconst obj = {name: this.name, role:this.role};\n",
    "\tconst json = JSON.stringify(obj);\n",
    "\treturn json;\n",
    "    }\n",
    "    \n",
    "// Creating data and putting it into a list\n",
    "var Yuri = new Person(\"Yuri\", \"DevOps\");\n",
    "var Tanay = new Person(\"Tanay\", \"Scrum Master\");\n",
    "var Harsha = new Person(\"Harsha\", \"Frontend\");\n",
    "var Sachit = new Person(\"Sachit\", \"Backend\");\n",
    "var Raunak = new Person(\"Raunak\", \"Backend\");\n",
    "\n",
    "storedInfo = [Yuri, Tanay, Harsha, Sachit, Raunak];\n",
    "\n",
    "//Make a object to hold the data\n",
    "function infoStorage(storedInfo) {\n",
    "\tthis.storedInfo = storedInfo;\n",
    "    }\n",
    "    \n",
    "    // Type Object that holds the data\n",
    "    infoHolder = new infoStorage(storedInfo);\n",
    "    //HTML conversion method\n",
    "    infoStorage.prototype._toHtml = function() {\n",
    "\tvar style = (\n",
    "\t  \"display:inline-block;\" +\n",
    "\t  \"border: 2px solid grey;\" +\n",
    "\t  \"box-shadow: 0.8em 0.4em 0.4em grey;\"\n",
    "\t);\n",
    "      \n",
    "\tvar table = \"\";\n",
    "\ttable += \"<tr>\";\n",
    "\ttable += \"<th><mark>\" + \"Name\" + \"</mark></th>\";\n",
    "\ttable += \"<th><mark>\" + \"Role\" + \"</mark></th>\";\n",
    "\ttable += \"</tr>\";\n",
    "    \n",
    "\t//Go through all data and each data's properties in a table format\n",
    "\tfor (var row of this.storedInfo) {\n",
    "\t    table += \"<tr>\";\n",
    "\t    table += \"<td>\" + row.name;\n",
    "\t    table += \"<td>\" + row.role + \"</td>\";\n",
    "\t    table += \"<tr>\"\n",
    "\t}\n",
    "\t //Return table\n",
    "\treturn (\n",
    "\t  \"<div style='\" + style + \"'>\" +\n",
    "\t    \"<table>\" +\n",
    "\t\ttable +\n",
    "\t    \"</table>\" +\n",
    "\t  \"</div>\"\n",
    "\t);\n",
    "      };\n",
    "      \n",
    "      // IJavaScript HTML processor receive parameter of defined HTML fragment\n",
    "      $$.html(infoHolder._toHtml());"
   ]
  }
 ],
 "metadata": {
  "kernelspec": {
   "display_name": "JavaScript (Node.js)",
   "language": "javascript",
   "name": "javascript"
  },
  "language_info": {
   "file_extension": ".js",
   "mimetype": "application/javascript",
   "name": "javascript",
   "version": "10.13.0"
  },
  "orig_nbformat": 4,
  "vscode": {
   "interpreter": {
    "hash": "eebbb108244c1ba77f1cb415be6e9567dfea2d09567dcc4fbd86eba351ce5445"
   }
  }
 },
 "nbformat": 4,
 "nbformat_minor": 2
}
