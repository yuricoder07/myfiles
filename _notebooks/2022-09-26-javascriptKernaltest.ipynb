{
 "cells": [
  {
   "cell_type": "markdown",
   "metadata": {},
   "source": [
    "# Simple Sorting Alg \n",
    "- title: Using JS Kernal\n",
    "- toc: true\n",
    "- badges: true\n",
    "- author: Yuri\n",
    "- categories: [jupyternotebook]"
   ]
  },
  {
   "cell_type": "code",
   "execution_count": 16,
   "metadata": {},
   "outputs": [
    {
     "name": "stdout",
     "output_type": "stream",
     "text": [
      "Simple Sorting Algorythym\n",
      "[ 9, 3, 1, 23, 91, 13, 1092, 72 ]\n",
      "[ 3, 9, 1, 23, 91, 13, 1092, 72 ]\n",
      "[ 3, 1, 9, 23, 91, 13, 1092, 72 ]\n",
      "[ 3, 1, 9, 23, 13, 91, 1092, 72 ]\n",
      "[ 3, 1, 9, 23, 13, 91, 72, 1092 ]\n",
      "[ 1, 3, 9, 23, 13, 91, 72, 1092 ]\n",
      "[ 1, 3, 9, 13, 23, 91, 72, 1092 ]\n",
      "[ 1, 3, 9, 13, 23, 72, 91, 1092 ]\n"
     ]
    }
   ],
   "source": [
    "console.log(\"Simple Sorting Algorythym\");\n",
    "\n",
    "//array of nums that are going to be sorted through\n",
    "var numArr = [9,3,1,23,91,13,1092,72]\n",
    "\n",
    "// takes an array of numbers\n",
    "function sortNum(arr){\n",
    "\n",
    "\t//Outer pass\n",
    "\tfor(let i = 0; i < arr.length; i++){\t\n",
    "\t    //Inner pass\n",
    "\t    for(let j = 0; j < arr.length - i - 1; j++){\n",
    "    \n",
    "\t\t//Value comparison using ascending order\n",
    "    \n",
    "\t\tif(arr[j + 1] < arr[j]){\n",
    "    \n",
    "\t\t    //Swapping\n",
    "\t\t    console.log(arr);\n",
    "\t\t    [arr[j + 1],arr[j]] = [arr[j],arr[j + 1]]\n",
    "\t\t}\n",
    "\t    }\n",
    "\t};\n",
    "\treturn arr;\n",
    "    };\n",
    "    \n",
    "    console.log(sortNum(numArr));"
   ]
  }
 ],
 "metadata": {
  "kernelspec": {
   "display_name": "JavaScript (Node.js)",
   "language": "javascript",
   "name": "javascript"
  },
  "language_info": {
   "file_extension": ".js",
   "mimetype": "application/javascript",
   "name": "javascript",
   "version": "10.13.0"
  },
  "orig_nbformat": 4
 },
 "nbformat": 4,
 "nbformat_minor": 2
}
