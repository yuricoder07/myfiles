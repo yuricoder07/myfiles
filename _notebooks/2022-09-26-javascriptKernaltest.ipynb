# Using JS to create HTML table
- title: Using JS to create HTML
- toc: true
- badges: true
- author: Yuri
- categories: [jupyternotebook]