{
 "cells": [
  {
   "cell_type": "markdown",
   "metadata": {},
   "source": [
    "# Week 14 Lesson Notes and Hacks\n",
    "- title: Week 14 Lesson Notes and Hacks\n",
    "- toc: true\n",
    "- badges: true\n",
    "- author: Yuri\n",
    "- categories: [jupyternotebook]"
   ]
  },
  {
   "cell_type": "markdown",
   "metadata": {},
   "source": [
    "# 3.1 and 3.2 Variables, Assignments, and Data Abstractions\n",
    "\n",
    "# Variables\n",
    "\n",
    "* A variable is an abstraction in a program that can hold a value\n",
    "* Has three parts, name, value and type\n",
    "* Meaningful variables helps readability and understanding the code\n",
    "\n",
    "# Types of data\n",
    "\n",
    "* Integer: A number\n",
    "* String: A word\n",
    "* Boolean: True or False\n",
    "\n",
    "# Lists \n",
    "\n",
    "* Print multiple values without creating many variables\n",
    "* easily add and change values in the list\n",
    "\n",
    "# Assignments\n",
    "\n",
    "* The assignment operator allows a program to change the value represented by a variable\n",
    "* Used to assign values to a variable\n",
    "* Value that is stored in the variable is the one most recently assigned to it\n",
    "\n",
    "# Data Abstraction\n",
    "\n",
    "* Method in programing to represent data in a useful form, taking aspects of data that arent being used\n",
    "* Variables and lists are important for data abstraction\n",
    "\n",
    "# Lists and Strings\n",
    "\n",
    "* Element = individual value in the list\n",
    "* Index = a way to referance elements in a list\n",
    "\n",
    "# Managing Complexity in a Program\n",
    "\n",
    "* Data abstractions help by giving the collection a name without refrencing specific details\n",
    "\n",
    "# Ap Exam Use\n",
    "\n",
    "* Index questions do not start at 0, but 1"
   ]
  },
  {
   "cell_type": "code",
   "execution_count": 5,
   "metadata": {},
   "outputs": [
    {
     "name": "stdout",
     "output_type": "stream",
     "text": [
      "green\n",
      "red\n",
      "pink\n",
      "purple\n",
      "blue\n",
      "brown\n"
     ]
    }
   ],
   "source": [
    "colorList=[\"green\", \"red\", \"pink\", \"purple\", \"blue\", \"brown\"]\n",
    "for i in range(len(colorList)):\n",
    "\tprint(colorList[i])"
   ]
  },
  {
   "cell_type": "code",
   "execution_count": 1,
   "metadata": {},
   "outputs": [
    {
     "name": "stdout",
     "output_type": "stream",
     "text": [
      "[55, 65, 72, 78, 78, 86, 88, 91, 92, 94]\n"
     ]
    }
   ],
   "source": [
    "# Function that Sorts test scores (takes a input of a score list)\n",
    "def sort(testScores):\n",
    "    # variable assigned to the length of the test score list\n",
    "    length=len(testScores)\n",
    "    # loops through the length of the test score list amount of times\n",
    "    for i in range(length):\n",
    "        for j in range((i+1),length):\n",
    "            # checks in order of the list if the next value is greater than it or not, and swaps places if its less than it\n",
    "            if testScores[i]>testScores[j]:\n",
    "                l1=testScores[i]\n",
    "                testScores[i]= testScores[j]\n",
    "                testScores[j]=l1\n",
    "    # once the whole list checks out, it outputs the score as a list\n",
    "    print(testScores)\n",
    "# list of scores                \n",
    "testScoresList=[78,94,72,86,65,91,92,88,78,55]\n",
    "# function being called\n",
    "sort(testScoresList)"
   ]
  },
  {
   "cell_type": "markdown",
   "metadata": {},
   "source": [
    "# 3.3 and 3.4 Mathematical Expressions and Strings\n",
    "\n",
    "# Algorithm Steps\n",
    "\n",
    "* Sequencing\n",
    "* Selection\n",
    "* Iteration\n",
    "\n",
    "* Can be represented in two ways: Flow Charts, Pseudocode\n",
    "\n",
    "# Arithmetic Operation\n",
    "\n",
    "* for addition+, * multiplication, / division and - subtraction\n",
    "* Operations in parentheses should be done first\n",
    "* Division and multiplication should be done before addition and subtraction\n",
    "* Modules work similar to multiplication\n",
    "\n",
    "# Variables\n",
    "\n",
    "* Numerical value stored in a variable\n",
    "\n",
    "# Sequencing is Important\n",
    "\n",
    "* Assigning a variable will overide the last value which was assigned to the same variable.\n",
    "\n",
    "# Strings\n",
    "\n",
    "* A string is a collection of characters. It could be numbers and symbols, but it is still a string\n",
    "* len() finds the length of lists and strings\n",
    "* lower() to convert to lowercase\n",
    "* concat() returns a string made up on the concatenated strings\n",
    "\n",
    "# Hacks/Hw\n",
    "-------------------\n",
    "### Num1 = 50\n",
    "### Num2 = Num1 % 9 + 15\n",
    "### Num3 = Num2 / Num1 + ( Num2 * 2 )\n",
    "### Num4 = Num3 + Num1 / 5 - 10\n",
    "### Result = Num4 - Num2\n",
    "\n",
    "###  Result =  20.4 ^^\n",
    "-------------------\n",
    "### Num1 = 10\n",
    "### Num2 = Num1 % 3 * 4\n",
    "### Num1 = Num2\n",
    "### Num3 = Num1 * 3\n",
    "### Result = Num3 % 2\n",
    "\n",
    "### Result = 0 ^^\n",
    "-------------------\n",
    "### valueA = 4\n",
    "### valueB = 90\n",
    "### valueC = 17\n",
    "### valueB = valueC - valueA\n",
    "### valueA = valueA * 10\n",
    "### if valueB > 10:\n",
    "###    print(valueC)\n",
    "\n",
    "### Result = 17 ^^\n",
    "-------------------\n",
    "### type = \"curly\"\n",
    "### color = \"brown\"\n",
    "### length = \"short\"\n",
    "### type = \"straight\"\n",
    "### hair = type + color + length\n",
    "### print(hair)\n",
    "\n",
    "### Result = \"straightbrownshort\" ^^"
   ]
  },
  {
   "cell_type": "code",
   "execution_count": 16,
   "metadata": {},
   "outputs": [
    {
     "name": "stdout",
     "output_type": "stream",
     "text": [
      "Very handsome Mr.Mort is.\n"
     ]
    }
   ],
   "source": [
    "Noun = \"Mr.Mortenson\" \n",
    "Adjective = \"handsome\" \n",
    "Adjective2 = \"Very\" \n",
    "Verb = \"is\" \n",
    "abrev = Noun[:7]\n",
    "yoda = (Adjective2+ \" \"+ Adjective+ \" \"+ abrev+ \" \"+Verb+ \".\") \n",
    "print(yoda)\n",
    "\n",
    "# Result is \"Very handsome Mr.Mort is.\"\n"
   ]
  },
  {
   "cell_type": "code",
   "execution_count": 24,
   "metadata": {},
   "outputs": [
    {
     "name": "stdout",
     "output_type": "stream",
     "text": [
      "(('choclate', 'vote', 225), ' ', ('rasin', 'vote', 4.0))\n"
     ]
    }
   ],
   "source": [
    "cookie = \"choclate\" \n",
    "cookie2 = \"rasin\" \n",
    "len1 = len(cookie) / 2 \n",
    "len2 = len(cookie2) * 45\n",
    "vote1 = (cookie, \"vote\", len2)\n",
    "vote2 = (cookie2, \"vote\", len1)\n",
    "votes = (vote1, \" \", vote2)\n",
    "print(votes)\n",
    "\n",
    "# Result (('choclate', 'vote', 225), ' ', ('rasin', 'vote', 4.0))\n"
   ]
  }
 ],
 "metadata": {
  "kernelspec": {
   "display_name": "Python 3.9.12 ('base')",
   "language": "python",
   "name": "python3"
  },
  "language_info": {
   "codemirror_mode": {
    "name": "ipython",
    "version": 3
   },
   "file_extension": ".py",
   "mimetype": "text/x-python",
   "name": "python",
   "nbconvert_exporter": "python",
   "pygments_lexer": "ipython3",
   "version": "3.9.12"
  },
  "orig_nbformat": 4,
  "vscode": {
   "interpreter": {
    "hash": "eebbb108244c1ba77f1cb415be6e9567dfea2d09567dcc4fbd86eba351ce5445"
   }
  }
 },
 "nbformat": 4,
 "nbformat_minor": 2
}
