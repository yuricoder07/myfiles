{
 "cells": [
  {
   "cell_type": "markdown",
   "metadata": {},
   "source": [
    "# United 3 Sections 5-7 Hacks + Notes\n",
    "- title: United 3 Sections 5-7 Hacks + Notes\n",
    "- toc: true\n",
    "- badges: true\n",
    "- author: Yuri\n",
    "- categories: [jupyternotebook]"
   ]
  },
  {
   "cell_type": "markdown",
   "metadata": {},
   "source": [
    "# Lesson Overview: 3.5 - Boolean Expressions\n",
    "- Here we will focus on:\n",
    "    - basics of Booleans\n",
    "    - its relationship with binary\n",
    "    - relational operators\n",
    "    - Logical Operators\n",
    "\n",
    "## What is a boolean?\n",
    "- A data type with two possible values: true or false\n",
    "\n",
    "## Boolean and Binary\n",
    "So similar yet so different.\n",
    "- Boolean math and binary notation both use the same two ciphers: 1 and 0.\n",
    "- However, please note that Boolean quantities are restricted to a singlular bit (can only be either 1, or 0)\n",
    "- On the otherhand, binary numbers may be composed of many bits adding up in place-weighted form to any finite value, or size\n",
    "\n",
    "## Must Knows\n",
    "- A Boolean value is either TRUE or FALSE\n",
    "- The AP Exam will provide you with a reference sheet with the operators below.\n",
    "\n",
    "![](ghtop_images/operators.png)\n",
    "\n",
    "- A few ways these operators could be used...\n",
    "\n",
    "![](ghtop_images/operators2.png)"
   ]
  },
  {
   "cell_type": "markdown",
   "metadata": {},
   "source": [
    "## Relational Operators in action\n",
    "- How could you use operators to determine if the average of 5 grades is greater than 80?"
   ]
  },
  {
   "cell_type": "markdown",
   "metadata": {},
   "source": [
    "\n",
    "- With the grades below, use a boolean expression to determine if the average grade is above an 80 and print the result (True or False)\n",
    "- Try it in as few steps as possible!\n",
    "- Be creative! There are obviously TONS of different practical solutions"
   ]
  },
  {
   "cell_type": "code",
   "execution_count": 1,
   "metadata": {},
   "outputs": [
    {
     "name": "stdout",
     "output_type": "stream",
     "text": [
      "False\n"
     ]
    }
   ],
   "source": [
    "grade1 = 90\n",
    "grade2 = 65\n",
    "grade3 = 60\n",
    "grade4 = 75\n",
    "grade5 = 95\n",
    "gradeAvg = (grade1+grade2+grade3+grade4+grade5)/5\n",
    "print(gradeAvg > 80)"
   ]
  },
  {
   "cell_type": "markdown",
   "metadata": {},
   "source": [
    "## The versatility of relational operators:"
   ]
  },
  {
   "cell_type": "code",
   "execution_count": 24,
   "metadata": {},
   "outputs": [
    {
     "name": "stdout",
     "output_type": "stream",
     "text": [
      "100 == 100: True\n",
      "Hello == Adios: False\n",
      "Hello != Adios: True\n",
      "Hello == Hola: True\n",
      "5>=4: True\n",
      "\n",
      "['a','b','c'] > ['x','y','z']: False\n",
      "[1,2,3,5] > [1,2,3,4]: True\n",
      "[1,2,3,5] < [1,2,3,4]: False\n",
      "[1,2,3,5] == [1,2,3,4]: False\n"
     ]
    }
   ],
   "source": [
    "print(\"100 == 100:\",100==100)\n",
    "print(\"Hello == Adios:\",\"greeting\"==\"farewell\")\n",
    "print(\"Hello != Adios:\",\"greeting\"!=\"farewell\")\n",
    "print(\"Hello == Hola:\",\"greeting\"==\"greeting\")\n",
    "print(\"5>=4:\", 5>=4)\n",
    "print ('')\n",
    "\n",
    "# Notice that relational operators can even work on lists!\n",
    "# For lists, the relational operator compares each respective component until an answer is derived\n",
    "\n",
    "print(\"['a','b','c'] > ['x','y','z']:\", ['a','b','c'] > ['x','y','z'])\n",
    "print(\"[1,2,3,5] > [1,2,3,4]:\", [1,2,3,5] > [1,2,3,4])\n",
    "print(\"[1,2,3,5] < [1,2,3,4]:\", [1,2,3,5] < [1,2,3,4])\n",
    "print(\"[1,2,3,5] == [1,2,3,4]:\", [1,2,3,5] == [1,2,3,4])\n",
    "\n"
   ]
  },
  {
   "cell_type": "markdown",
   "metadata": {},
   "source": [
    "## Logical Operators!\n",
    "These types of operators don't necessarily deal with equivalent/non-equivalent values, but they rather work on operands to produce a singular boolean result\n",
    "- AND : returns TRUE if the operands around it are TRUE\n",
    "- OR : returns TRUE if at least one operand is TRUE\n",
    "- NOT : returns TRUE if the following boolean is FALSE"
   ]
  },
  {
   "cell_type": "markdown",
   "metadata": {},
   "source": [
    "#### Turn the following arithmetic phrases into either True or False statements as indicated USING LOGICAL OPERATORS"
   ]
  },
  {
   "cell_type": "code",
   "execution_count": 10,
   "metadata": {},
   "outputs": [
    {
     "name": "stdout",
     "output_type": "stream",
     "text": [
      "1 > 2 or 5 < 12: True\n",
      "24 > 8: True\n",
      "10 > 20: False\n"
     ]
    }
   ],
   "source": [
    "# Output TRUE  using OR\n",
    "print(\"1 > 2 or 5 < 12:\", 1 > 2 or 5 < 12)\n",
    "# Output TRUE  using OR ^\n",
    "\n",
    "\n",
    "# Output FALSE using NOT\n",
    "print(\"24 > 8:\",24 > 8)\n",
    "\n",
    "# Output FALSE using AND\n",
    "print(\"10 > 20:\", 10 > 20 and False)"
   ]
  },
  {
   "cell_type": "markdown",
   "metadata": {},
   "source": [
    "# Lesson Overview: 3.6 - Conditionals"
   ]
  },
  {
   "cell_type": "markdown",
   "metadata": {},
   "source": [
    "## Focusing on Selection\n",
    "**Selection**: uses a condition that evaluates to <i>true</i> or <i>false</i>\n",
    "\n",
    "Selection determines which part of an algorithm are executed based on a condition being true or false\n",
    "\n",
    "**Algorithm** is a finite set of instructions that accomplish a specific task\n",
    "![](ghtop_images/conditionals.png)"
   ]
  },
  {
   "cell_type": "markdown",
   "metadata": {},
   "source": [
    "## Conditional Statements\n",
    "Also known as \"if statements\"\n",
    "\n",
    "Can be seen as if statements or if blocks\n",
    "\n",
    "![](ghtop_images/conditionals2.png)\n",
    "\n",
    "Can also be seen as if else statements or if else-blocks\n",
    "![](ghtop_images/conditionals3.png)"
   ]
  },
  {
   "cell_type": "code",
   "execution_count": 35,
   "metadata": {},
   "outputs": [
    {
     "name": "stdout",
     "output_type": "stream",
     "text": [
      "x is greater than y\n"
     ]
    }
   ],
   "source": [
    "x = 20\n",
    "y = 10\n",
    "if x > y:\n",
    "    print(\"x is greater than y\")"
   ]
  },
  {
   "cell_type": "code",
   "execution_count": 11,
   "metadata": {},
   "outputs": [
    {
     "name": "stdout",
     "output_type": "stream",
     "text": [
      "x is not greater than y\n"
     ]
    }
   ],
   "source": [
    "x = 9\n",
    "y = 10\n",
    "if x > y:\n",
    "    print(\"x is greater than y\")\n",
    "else:\n",
    "    print(\"x is not greater than y\")"
   ]
  },
  {
   "cell_type": "markdown",
   "metadata": {},
   "source": [
    "## Participation \n",
    "\n",
    "-Calculate the total sum of two numbers, if it is equal to 200, print 200, if otherwise, print the sum."
   ]
  },
  {
   "cell_type": "code",
   "execution_count": 13,
   "metadata": {},
   "outputs": [
    {
     "name": "stdout",
     "output_type": "stream",
     "text": [
      "200\n"
     ]
    }
   ],
   "source": [
    "num1 =103\n",
    "num2 = 97\n",
    "sum = num1 + num2\n",
    "if sum == 200:\n",
    "\tprint(sum)\n",
    "else:\n",
    "\tprint(sum)"
   ]
  },
  {
   "cell_type": "markdown",
   "metadata": {},
   "source": [
    "## Lesson Overview - 3.7 Nested Conditionals"
   ]
  },
  {
   "cell_type": "markdown",
   "metadata": {},
   "source": [
    "- Nested conditional statements consist of conditional statements within other conditional statements\n",
    "- Utilizes \"if else\" statements within \"if else\" statements"
   ]
  },
  {
   "cell_type": "markdown",
   "metadata": {},
   "source": [
    "- Basics of a nested conditional:\n",
    "![](ghtop_images/martin1.jpg)"
   ]
  },
  {
   "cell_type": "markdown",
   "metadata": {},
   "source": [
    "- Block Coding Visual of Nested Conditionals:\n",
    "![](ghtop_images/martin2.jpg)\n",
    "- Example Psuedocode of Nested Conditional Statements\n",
    "![](ghtop_images/martin3.jpg)\n",
    "\n",
    "# Analyzing Code Walkthrough\n",
    "- Psuedocode to the left, block code to the right\n",
    "- Approach the problem by going through each condition one at a time\n",
    "    - Decide which ones are false to skip and which ones are true to execute\n",
    "\n",
    "- You Try:\n",
    "![](ghtop_images/martin4.jpg)"
   ]
  },
  {
   "cell_type": "code",
   "execution_count": 2,
   "metadata": {},
   "outputs": [
    {
     "name": "stdout",
     "output_type": "stream",
     "text": [
      "Please come to retake up to a 90 next week at tutorial!\n"
     ]
    }
   ],
   "source": [
    "score = 82\n",
    "if (score >= 90)\n",
    "{\n",
    "    console.log(\"You got an A, congrats!\")\n",
    "}\n",
    "else\n",
    "{\n",
    "    if (score >= 75)\n",
    "    {\n",
    "        console.log(\"Please come to retake up to a 90 next week at tutorial!\")\n",
    "    }\n",
    "    else\n",
    "    {\n",
    "        console.log(\"You have detention!!\")\n",
    "    }\n",
    "}"
   ]
  },
  {
   "cell_type": "code",
   "execution_count": 3,
   "metadata": {},
   "outputs": [
    {
     "name": "stdout",
     "output_type": "stream",
     "text": [
      "Looks great but lets see if we can cut down on sugar, we don't want diabetes!\n"
     ]
    }
   ],
   "source": [
    "protein = 25\n",
    "carbs = 36\n",
    "sugar = 11\n",
    "if (carbs >= 55 || protein <= 20 || sugar >= 15)\n",
    "{\n",
    "    console.log(\"Your lunch is too unhealthy, please pick a new one\")\n",
    "}\n",
    "else\n",
    "{\n",
    "    if (carbs < 35 || protein < 25)\n",
    "    {\n",
    "    console.log (\"This lunch is alright but try to add some more carbs or protein\")\n",
    "    }\n",
    "    else \n",
    "    {\n",
    "    if (sugar >= 11)\n",
    "    {\n",
    "    console.log (\"Looks great but lets see if we can cut down on sugar, we don't want diabetes!\")\n",
    "    }\n",
    "    else\n",
    "    {\n",
    "        console.log (\"Amazing, you created a healthy lunch!!!\")\n",
    "    }\n",
    "    }\n",
    "}"
   ]
  },
  {
   "cell_type": "markdown",
   "metadata": {},
   "source": [
    "## Writing Nested Code Activity\n",
    "1. Write a program that fits these conditions using nested conditionals:\n",
    "    - If a person has at least 8 hours, they are experienced\n",
    "    - If a person is experienced their salary is 90k, if they have ten hours or above their salary 150k\n",
    "    - If a person is inexperienced their salary is always 50k\n",
    "    - print the salary of the person at the end and whether they are experienced or not\n",
    "\n",
    "## Hacks Assignments:\n",
    "**Conditionals**:\n",
    "\n",
    "- Write a program that fits these conditions using nested conditionals:\n",
    "    - If the product is expired, print \"this product is no good\"\n",
    "    - If the cost is above 50 dollars, and the product isn't expired, print \"this product is too expensive\"\n",
    "    - If the cost is 25 dollars but under 50, and the product isn't expired, print \"this is a regular product\"\n",
    "    - If the cost is under 25 dollars, print \"this is a cheap product\""
   ]
  },
  {
   "cell_type": "code",
   "execution_count": 5,
   "metadata": {},
   "outputs": [
    {
     "name": "stdout",
     "output_type": "stream",
     "text": [
      "Experienced, Salary is 150k.\n"
     ]
    }
   ],
   "source": [
    "\n",
    "\n",
    "experience = 10\n",
    "salary = 100000\n",
    "\n",
    "if (experience> 10){\n",
    "\tconsole.log(\"you are experienced\")\n",
    "}\n",
    "else{\n",
    "\tif (experience >=10){\n",
    "\t\tconsole.log(\"Experienced, Salary is 150k.\")\n",
    "\t}\n",
    "\telse{\n",
    "\t\tconsole.log(\"Experienced salary is 90k\")\n",
    "\t}\n",
    "}\n",
    "\n"
   ]
  },
  {
   "cell_type": "code",
   "execution_count": 14,
   "metadata": {},
   "outputs": [
    {
     "name": "stdout",
     "output_type": "stream",
     "text": [
      "this product is too expensive\n"
     ]
    }
   ],
   "source": [
    "//True = product is expired, false =  product isn't expired\n",
    "productStatus = false\n",
    "cost = 700000\n",
    "\n",
    "if (productStatus){\n",
    "\tconsole.log(\"This product is no good\")\n",
    "}\n",
    "else{\n",
    "\tif(cost > 50 ){\n",
    "\t\tconsole.log(\"this product is too expensive\")\n",
    "\t}\n",
    "\tif(cost < 50 && cost> 25)\n",
    "\t\tconsole.log(\"this is a regular product\")\n",
    "\tif (cost<25){\n",
    "\t\tconsole.log(\"this is a cheap product\")\n",
    "\t}\n",
    "}\n",
    "\n"
   ]
  },
  {
   "cell_type": "code",
   "execution_count": null,
   "metadata": {},
   "outputs": [],
   "source": [
    "questions = {\n",
    "\t\"question1\":\"\"\n",
    "\t\"question1\":\"\"\n",
    "\t\"question1\":\"\"\n",
    "\t\"question1\":\"\"\n",
    "\n",
    "}"
   ]
  },
  {
   "cell_type": "markdown",
   "metadata": {},
   "source": [
    "**Boolean/Conditionals**:\n",
    "- Create a multiple choice quiz that ...\n",
    "    - uses Boolean expressions\n",
    "    - uses Logical operators\n",
    "    - uses Conditional statements\n",
    "    - prompts quiz-taker with multiple options (only one can be right)\n",
    "    - has at least 3 questions\n",
    "- Points will be awarded for creativity, intricacy, and how well Boolean/Binary concepts have been intertwined"
   ]
  }
 ],
 "metadata": {
  "kernelspec": {
   "display_name": "JavaScript (Node.js)",
   "language": "javascript",
   "name": "javascript"
  },
  "language_info": {
   "file_extension": ".js",
   "mimetype": "application/javascript",
   "name": "javascript",
   "version": "3.9.12"
  },
  "orig_nbformat": 4,
  "vscode": {
   "interpreter": {
    "hash": "eebbb108244c1ba77f1cb415be6e9567dfea2d09567dcc4fbd86eba351ce5445"
   }
  }
 },
 "nbformat": 4,
 "nbformat_minor": 2
}
