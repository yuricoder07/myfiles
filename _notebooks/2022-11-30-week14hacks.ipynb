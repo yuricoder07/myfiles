{
 "cells": [
  {
   "cell_type": "markdown",
   "metadata": {},
   "source": [
    "# Week 14 Algorithm Hacks\n",
    "- title: Week 14 Algorithm Hacks\n",
    "- toc: true\n",
    "- badges: true\n",
    "- author: Yuri\n",
    "- categories: [jupyternotebook]"
   ]
  },
  {
   "cell_type": "code",
   "execution_count": 6,
   "metadata": {
    "vscode": {
     "languageId": "javascript"
    }
   },
   "outputs": [
    {
     "name": "stdout",
     "output_type": "stream",
     "text": [
      "True\n"
     ]
    }
   ],
   "source": [
    "# Palindrome Algrorithm Python (checks if a word is a palindrome)\n",
    "x = \"racecar\"\n",
    "#function for the checker (takes in a word parameter)\n",
    "def check_palindrome(word):\n",
    "#loops through the word\n",
    "  for  i in range(len(word)//2):\n",
    "    if word[i] != word[len(word)-i-1]:\n",
    "      return False\n",
    "  return True\n",
    "\n",
    "print(check_palindrome(x))"
   ]
  },
  {
   "cell_type": "code",
   "execution_count": 4,
   "metadata": {
    "vscode": {
     "languageId": "javascript"
    }
   },
   "outputs": [
    {
     "name": "stdout",
     "output_type": "stream",
     "text": [
      "true\n"
     ]
    }
   ],
   "source": [
    "// plaindrome checker (in javascript this time)\n",
    "// function that takes any string as a parameter\n",
    "function checkPalindrome(string) {\n",
    "\t// find the length of a string\n",
    "\tconst len = string.length;\n",
    "    \n",
    "\t// loop through half of the string\n",
    "\tfor (let i = 0; i < len / 2; i++) {\n",
    "    \n",
    "\t    // check if first and last string are same\n",
    "\t    if (string[i] !== string[len - 1 - i]) {\n",
    "\t\treturn false;\n",
    "\t    }\n",
    "\t}\n",
    "\treturn true;\n",
    "    }\n",
    "    \n",
    "string = \"racecar\"\n",
    "    \n",
    "// calls the function\n",
    "value = checkPalindrome(string);\n",
    "    \n",
    "console.log(value);"
   ]
  }
 ],
 "metadata": {
  "kernelspec": {
   "display_name": "Python 2.7.18 64-bit",
   "language": "python",
   "name": "python3"
  },
  "language_info": {
   "file_extension": ".js",
   "mimetype": "application/javascript",
   "name": "python",
   "version": "2.7.18"
  },
  "orig_nbformat": 4,
  "vscode": {
   "interpreter": {
    "hash": "949777d72b0d2535278d3dc13498b2535136f6dfe0678499012e853ee9abcab1"
   }
  }
 },
 "nbformat": 4,
 "nbformat_minor": 2
}
