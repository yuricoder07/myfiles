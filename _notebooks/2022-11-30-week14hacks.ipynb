{
 "cells": [
  {
   "cell_type": "markdown",
   "metadata": {},
   "source": [
    "# Week 14 Algorithm Hacks\n",
    "- title: Week 14 Algorithm Hacks\n",
    "- toc: true\n",
    "- badges: true\n",
    "- author: Yuri\n",
    "- categories: [jupyternotebook]"
   ]
  },
  {
   "cell_type": "markdown",
   "metadata": {},
   "source": [
    "# Truth Table"
   ]
  },
  {
   "cell_type": "code",
   "execution_count": 7,
   "metadata": {},
   "outputs": [],
   "source": [
    "function method2(){\n",
    "\ttruthTable= [[1,1], [1,0], [0,1], [0,0]]\n",
    "\n",
    "}\n"
   ]
  },
  {
   "cell_type": "code",
   "execution_count": 6,
   "metadata": {},
   "outputs": [
    {
     "name": "stdout",
     "output_type": "stream",
     "text": [
      "True\n"
     ]
    }
   ],
   "source": [
    "# Palindrome Algrorithm Python (checks if a word is a palindrome)\n",
    "x = \"racecar\"\n",
    "#function for the checker (takes in a word parameter)\n",
    "def check_palindrome(word):\n",
    "#loops through the word\n",
    "  for  i in range(len(word)//2):\n",
    "    if word[i] != word[len(word)-i-1]:\n",
    "      return False\n",
    "  return True\n",
    "\n",
    "print(check_palindrome(x))"
   ]
  },
  {
   "cell_type": "code",
   "execution_count": 4,
   "metadata": {},
   "outputs": [
    {
     "name": "stdout",
     "output_type": "stream",
     "text": [
      "true\n"
     ]
    }
   ],
   "source": [
    "// plaindrome checker (in javascript this time)\n",
    "// function that takes any string as a parameter\n",
    "function checkPalindrome(string) {\n",
    "\t// find the length of a string\n",
    "\tconst len = string.length;\n",
    "    \n",
    "\t// loop through half of the string\n",
    "\tfor (let i = 0; i < len / 2; i++) {\n",
    "    \n",
    "\t    // check if first and last string are same\n",
    "\t    if (string[i] !== string[len - 1 - i]) {\n",
    "\t\treturn false;\n",
    "\t    }\n",
    "\t}\n",
    "\treturn true;\n",
    "    }\n",
    "    \n",
    "string = \"racecar\"\n",
    "    \n",
    "// calls the function\n",
    "value = checkPalindrome(string);\n",
    "    \n",
    "console.log(value);"
   ]
  }
 ],
 "metadata": {
  "kernelspec": {
   "display_name": "JavaScript (Node.js)",
   "language": "javascript",
   "name": "javascript"
  },
  "language_info": {
   "file_extension": ".js",
   "mimetype": "application/javascript",
   "name": "javascript",
   "version": "10.13.0"
  },
  "orig_nbformat": 4,
  "vscode": {
   "interpreter": {
    "hash": "eebbb108244c1ba77f1cb415be6e9567dfea2d09567dcc4fbd86eba351ce5445"
   }
  }
 },
 "nbformat": 4,
 "nbformat_minor": 2
}
