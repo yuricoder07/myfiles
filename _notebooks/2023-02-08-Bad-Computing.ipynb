{
 "cells": [
  {
   "cell_type": "code",
   "execution_count": null,
   "metadata": {},
   "outputs": [],
   "source": []
  },
  {
   "attachments": {},
   "cell_type": "markdown",
   "metadata": {},
   "source": [
    "# 5.6 safe Computing\n",
    "\n"
   ]
  },
  {
   "attachments": {},
   "cell_type": "markdown",
   "metadata": {},
   "source": [
    "# PII Personal Indentifiable Information\n",
    "\n",
    "- Adding links makes different PII. \n",
    "- Example: Something like Linkedin makes it easy to see others and your achievements and accomplishments. However if you add klinks people will most likely look at your other social media while \"snooping\" in your profile.\n",
    "\n",
    "### PII Considerations\n",
    "\n",
    "- Things that are common for PII: \n",
    "    - Name \n",
    "    - Email \n",
    "    - Picture \n",
    "    - High School College \n",
    "    - Real Estate \n",
    "    - State/City of Residence\n",
    "- Things that you should be more cautious about when putting it as part of your PII (Gray zone):\n",
    "    - Birth date\n",
    "    - POB\n",
    "    - Address\n",
    "    - Phone #\n",
    "    - Maiden or Surnames\n",
    "- Things that should be entirely confidential and not given to anyone under any circumstances:\n",
    "    - Credentials for Access\n",
    "    - TFA\n",
    "    - SSN\n",
    "    - Tax Records\n",
    "    "
   ]
  },
  {
   "attachments": {},
   "cell_type": "markdown",
   "metadata": {},
   "source": [
    "# Blog Post Reflection:\n",
    "1. Describe PII you have seen on project in CompSci Principles.\n",
    "    - A lot of PII that I see in CompSci Principles are:\n",
    "        - Students' names\n",
    "        - Emails\n",
    "        - Phone # (For most projects)\n",
    "        - Sometimes a picture for something like \"Meet the devs\"\n",
    "2. What are your feelings about PII and your personal exposure?\n",
    "    - Personally, I'm not okay with PII and personal exposure. Whenever using the internet I try to be the most discrete as I can be. I'm okay with my first name being known on the internet as millions of other people have the same name. PII is great for people that need to identify  you and can help them dig up some of your greatest accomplishments and achievements.\n",
    "3. Describe good and bad passwords? What is another step that is used to assist in authentication.\n",
    "    - Bad passwords generally consist of very common patterns and are often used for multiple different websites. For example, if someone's password is 12345 or like password123, there is really no variability in it and that makes it a lot easier to guess. Additionally, if the person that may try and compromise your account has some of your PII, even something like \"name\"_07 might be pretty easy to guess (And additionally if you use the same password for multiple accounts, multiple of your personal accounts can become compromised). A good password should consist:\n",
    "        - Lots of variability in keystrokes\n",
    "        - 2FA\n",
    "        - Little to no correlation to any of your PII\n",
    "        - Symbols\n",
    "4. Try to describe Symmetric and Asymmetric encryption.\n",
    "    - Symmetric encryption is where there is only one key that allows you to access to something\n",
    "    - Aymmetric encryption is where there is a key for private and a key for public, so different things will be used to en and de crypt a message for safety purposes.\n",
    "5. Provide an example of encryption we used in AWS deployment.\n",
    "    - We use Symmetric encryption (nighthawkcodingsociety) for everyone to gain access to the company itself because all of us have the key and it does not change.\n",
    "6. Describe a phishing scheme you have learned about the hard way. Describe some other phishing techniques.\n",
    "    - A long time ago, when I played a game called ROBLOX, I had some valuable currency that i've saved for some time ($7000). This platform is home to many people who like to phish others out of passwords or other ways to get into accounts. ROBLOX uses a cookie system to store access tokens, so this person convinced me with some ensentaive to place some javascript in my browswer which grabbed the token giving him full access to my account.\n",
    "    Other phishing techniques could be\n",
    "    - Catphishing: Pretending to be someone else to gain information or simply troll others\n",
    "        - Ex: Pretending to be a famous youtuber that will give you a bajillion dollars if you give them your SSN\n",
    "    - Scandals\n",
    "    -Twitter scandals"
   ]
  }
 ],
 "metadata": {
  "kernelspec": {
   "display_name": "Python 3",
   "language": "python",
   "name": "python3"
  },
  "language_info": {
   "name": "python",
   "version": "3.8.9"
  },
  "orig_nbformat": 4,
  "vscode": {
   "interpreter": {
    "hash": "31f2aee4e71d21fbe5cf8b01ff0e069b9275f58929596ceb00d14d90e3e16cd6"
   }
  }
 },
 "nbformat": 4,
 "nbformat_minor": 2
}
