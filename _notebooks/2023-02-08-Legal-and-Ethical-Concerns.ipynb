{
 "cells": [
  {
   "cell_type": "code",
   "execution_count": null,
   "metadata": {},
   "outputs": [],
   "source": []
  },
  {
   "attachments": {},
   "cell_type": "markdown",
   "metadata": {},
   "source": [
    "# 5.5 Legal and Ethical Concerns Hacks\n",
    "\n",
    "---\n",
    "- categories: [eTracker, CB]\n",
    "- description: \"LEgal and Ethical Concerns of Computer Science (Principles)\"\n",
    "---"
   ]
  },
  {
   "attachments": {},
   "cell_type": "markdown",
   "metadata": {},
   "source": [
    "## Part 1\n",
    "### GPL General Public Licensing \n",
    "\n",
    "- Companies like Qualcomm makes its money on patents. If you use GPL software you could be voiding your rights to charge for software and patents.\n",
    "- Open  source means it is meant to be shared\n",
    "- Qualcomm wants all derivative work to require a royalty payment payment, also anyone who uses the idea/patent pays royalty.\n",
    "- Examples: Blackduck manages security, quality, etc.\n",
    "- analyzing impact of such licenses to its ability to charge royalties for the use of their Patents.\n",
    "\n",
    "### What's the Problem with Open Source?\n",
    "\n",
    "- often they are given an assignment and instead of developing their own algorithm they opt to copy something off the internet. \n",
    "- In summary, it is important to know the type of software license you are copying, it could impact billions of dollars in business.\n",
    "\n",
    "\n",
    "###  License Types\n",
    "\n",
    "Generally, there are three things that people need to follow if they want a license or patent on github or anywhere else\n",
    "\n",
    "- Do I want to waive default copyright in reuse?\n",
    "- Do I want to allow derivative works or not?\n",
    "- Do I want to require all derivative code to be shared?\n",
    "\n",
    "\n",
    "- Open source MIT License: This license in friendly to someone like Qualcomm! This allows using code freely and making and distributing closed source versions.\n",
    "- Open Source GPL: The GNU GPLv3 also lets people do almost anything they want with your project, except distributing closed source versions. Open source means the GitHub project must be public.\n",
    "- \n",
    "\n",
    "### Legality and Ethics\n",
    "\n",
    "- Must comply with terms and services of each individual license that is distributed to the individual or company.\n",
    "- As consumers, we have become aware that Music and Movie companies own content. These companies build DRM (Digital Rights Management) software to protect, play, and/or distribute content.\n",
    "- Mostly, if we use things in class, there is “no problem” with Open Source as our usage is considered educational use. Creative Commons software has enabled innovation because it's free!\n",
    "- Examples of GPL: A very premium (or version)  of Linux called Red Hat was required by GPL's licensing that they were distributing the\n",
    "- **However, businesses will not last without income. And today, businesses won’t last without engineers pulling Open Source software.**\n",
    "\n",
    "## Part 2\n",
    "\n",
    "In your blog, summarize the discussions and personal analysis on Software Licenses/Options, Digital Rights, and other Legal and Ethical thoughts from this College Board topic.\n",
    "\n",
    "There are many different Software Licenses that anyone can use depending on what they want to do, some of which include the following: \n",
    "- The Creative Commons CC0 Public Domain Dedication (waives copyright interest in a work you’ve created and dedicates it to the world-wide public domain.)\n",
    "- MIT License (allows using code freely and making and distributing closed source versions.)\n",
    "- GNU GGLv3 License (lets people do almost anything they want with your project, except distributing closed source versions.)\n",
    "Now, obviously, many licenses means that there is a lot of specificallity and diversity for each project, so the question is: Does one license truly benefit over another? As in, If you were to creative a particular project, how important will these licenses be said project is not mainstream (popular)?\n",
    "\n",
    "\n",
    "\n"
   ]
  }
 ],
 "metadata": {
  "kernelspec": {
   "display_name": "Python 3",
   "language": "python",
   "name": "python3"
  },
  "language_info": {
   "name": "python",
   "version": "3.8.9"
  },
  "orig_nbformat": 4,
  "vscode": {
   "interpreter": {
    "hash": "31f2aee4e71d21fbe5cf8b01ff0e069b9275f58929596ceb00d14d90e3e16cd6"
   }
  }
 },
 "nbformat": 4,
 "nbformat_minor": 2
}
