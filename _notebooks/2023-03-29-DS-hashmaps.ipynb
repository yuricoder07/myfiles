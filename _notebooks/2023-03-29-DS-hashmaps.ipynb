{
 "cells": [
  {
   "attachments": {},
   "cell_type": "markdown",
   "metadata": {},
   "source": [
    "#  Data Structures- Hashmaps, Sets, Hash Tables, Hashing and Collisions\n",
    "> Observing hashmaps with python dictionaries\n",
    "- toc: true\n",
    "- image: /images/python.png\n",
    "- categories: []\n",
    "- type: pbl\n",
    "- week: 28"
   ]
  },
  {
   "attachments": {},
   "cell_type": "markdown",
   "metadata": {},
   "source": [
    "## What is a Hashtable/Hashmap? test\n",
    "\n",
    "> A hashtable is a data structure that with a collection of key-value pairs, where each key maps to a value, and the keys must be unique and hashable.\n",
    "\n",
    "- In Python there is a built in hashtable known as a dictionary.\n",
    "\n",
    "> The primary purpose of a hashtable is to provide efficient lookup, insertion, and deletion operations. When an element is to be inserted into the hashtable, a hash function is used to map the key to a specific index in the underlying array that is used to store the key-value pairs. The value is then stored at that index. When searching for a value, the hash function is used again to find the index where the value is stored.\n",
    "\n",
    "> The key advantage of a hashtable over othder data structures like arrays and linked lists is its average-case time complexity for lookup, insertion, and deletion operations.\n",
    "\n",
    "- The typical time complexity of a hashtable is O(1). \n"
   ]
  },
  {
   "attachments": {},
   "cell_type": "markdown",
   "metadata": {},
   "source": [
    "## What is Hashing and Collision?\n",
    "\n",
    "> Hashing is the process of mapping a given key to a value in a hash table or hashmap, using a hash function. The hash function takes the key as input and produces a hash value or hash code, which is then used to determine the index in the underlying array where the value is stored. The purpose of hashing is to provide a quick and efficient way to access data, by eliminating the need to search through an entire data structure to find a value.\n",
    "\n",
    "> However, it is possible for two different keys to map to the same hash value, resulting in a collision. When a collision occurs, there are different ways to resolve it, depending on the collision resolution strategy used.\n",
    "\n",
    "> Python's dictionary implementation is optimized to handle collisions efficiently, and the performance of the dictionary is generally very good, even in the presence of collisions. However, if the number of collisions is very high, the performance of the dictionary can degrade, so it is important to choose a good hash function that minimizes collisions when designing a Python dictionary.\n",
    "\n",
    "## What is a Set?"
   ]
  },
  {
   "cell_type": "code",
   "execution_count": 1,
   "metadata": {},
   "outputs": [
    {
     "name": "stdout",
     "output_type": "stream",
     "text": [
      "{1, 2, 3}\n"
     ]
    }
   ],
   "source": [
    "my_set = set([1, 2, 3, 2, 1])\n",
    "print(my_set)  \n",
    "\n",
    "# What do you notice in the output?\n",
    "# Only outputs unique numbers\n",
    "# Curly braces indicative of dictionaries\n",
    "\n",
    "# Why do you think Sets are in the same tech talk as Hashmaps/Hashtables?\n",
    "# No duplicate values"
   ]
  },
  {
   "attachments": {},
   "cell_type": "markdown",
   "metadata": {},
   "source": [
    "## Dictionary Example\n",
    "\n",
    "Below are just some basic features of a dictionary. As always, documentation is always the main source for all the full capablilties. "
   ]
  },
  {
   "cell_type": "code",
   "execution_count": 2,
   "metadata": {},
   "outputs": [
    {
     "name": "stdout",
     "output_type": "stream",
     "text": [
      "{'title': 'Lover', 'artist': 'Taylor Swift', 'year': 2019, 'genre': ['Pop', 'Synth-pop'], 'tracks': {1: 'I Forgot That You Existed', 2: 'Cruel Summer', 3: 'Lover', 4: 'The Man', 5: 'The Archer', 6: 'I Think He Knows', 7: 'Miss Americana & The Heartbreak Prince', 8: 'Paper Rings', 9: 'Cornelia Street', 10: 'Death By A Thousand Cuts', 11: 'London Boy', 12: \"Soon You'll Get Better (feat. Dixie Chicks)\", 13: 'False God', 14: 'You Need To Calm Down', 15: 'Afterglow', 16: 'Me! (feat. Brendon Urie of Panic! At The Disco)', 17: \"It's Nice To Have A Friend\", 18: 'Daylight'}}\n"
     ]
    }
   ],
   "source": [
    "lover_album = {\n",
    "    \"title\": \"Lover\",\n",
    "    \"artist\": \"Taylor Swift\",\n",
    "    \"year\": 2019,\n",
    "    \"genre\": [\"Pop\", \"Synth-pop\"],\n",
    "    \"tracks\": {\n",
    "        1: \"I Forgot That You Existed\",\n",
    "        2: \"Cruel Summer\",\n",
    "        3: \"Lover\",\n",
    "        4: \"The Man\",\n",
    "        5: \"The Archer\",\n",
    "        6: \"I Think He Knows\",\n",
    "        7: \"Miss Americana & The Heartbreak Prince\",\n",
    "        8: \"Paper Rings\",\n",
    "        9: \"Cornelia Street\",\n",
    "        10: \"Death By A Thousand Cuts\",\n",
    "        11: \"London Boy\",\n",
    "        12: \"Soon You'll Get Better (feat. Dixie Chicks)\",\n",
    "        13: \"False God\",\n",
    "        14: \"You Need To Calm Down\",\n",
    "        15: \"Afterglow\",\n",
    "        16: \"Me! (feat. Brendon Urie of Panic! At The Disco)\",\n",
    "        17: \"It's Nice To Have A Friend\",\n",
    "        18: \"Daylight\"\n",
    "    }\n",
    "}\n",
    "\n",
    "# What data structures do you see?\n",
    "# Lists\n",
    "# Dictionaries\n",
    "\n",
    "# Printing the dictionary\n",
    "print(lover_album)\n"
   ]
  },
  {
   "cell_type": "code",
   "execution_count": 3,
   "metadata": {},
   "outputs": [
    {
     "name": "stdout",
     "output_type": "stream",
     "text": [
      "{1: 'I Forgot That You Existed', 2: 'Cruel Summer', 3: 'Lover', 4: 'The Man', 5: 'The Archer', 6: 'I Think He Knows', 7: 'Miss Americana & The Heartbreak Prince', 8: 'Paper Rings', 9: 'Cornelia Street', 10: 'Death By A Thousand Cuts', 11: 'London Boy', 12: \"Soon You'll Get Better (feat. Dixie Chicks)\", 13: 'False God', 14: 'You Need To Calm Down', 15: 'Afterglow', 16: 'Me! (feat. Brendon Urie of Panic! At The Disco)', 17: \"It's Nice To Have A Friend\", 18: 'Daylight'}\n",
      "{1: 'I Forgot That You Existed', 2: 'Cruel Summer', 3: 'Lover', 4: 'The Man', 5: 'The Archer', 6: 'I Think He Knows', 7: 'Miss Americana & The Heartbreak Prince', 8: 'Paper Rings', 9: 'Cornelia Street', 10: 'Death By A Thousand Cuts', 11: 'London Boy', 12: \"Soon You'll Get Better (feat. Dixie Chicks)\", 13: 'False God', 14: 'You Need To Calm Down', 15: 'Afterglow', 16: 'Me! (feat. Brendon Urie of Panic! At The Disco)', 17: \"It's Nice To Have A Friend\", 18: 'Daylight'}\n"
     ]
    }
   ],
   "source": [
    "# Retrieve value from dictionary with key\n",
    "print(lover_album.get('tracks'))\n",
    "# or\n",
    "print(lover_album['tracks'])"
   ]
  },
  {
   "cell_type": "code",
   "execution_count": 4,
   "metadata": {},
   "outputs": [
    {
     "name": "stdout",
     "output_type": "stream",
     "text": [
      "The Man\n",
      "The Man\n"
     ]
    }
   ],
   "source": [
    "# Retrieve value from a dictionary inside a dictionary\n",
    "print(lover_album.get('tracks')[4])\n",
    "# or\n",
    "print(lover_album['tracks'][4])"
   ]
  },
  {
   "cell_type": "code",
   "execution_count": null,
   "metadata": {},
   "outputs": [],
   "source": [
    "lover_album[\"producer\"] = set(['Taylor Swift', 'Jack Antonoff', 'Joel Little', 'Taylor Swift', 'Louis Bell', 'Frank Dukes'])\n",
    "\n",
    "# What can you change to make sure there are no duplicate producers?\n",
    "# Makes a set\n",
    "# \n",
    "\n",
    "# Printing the dictionary\n",
    "print(lover_album)"
   ]
  },
  {
   "cell_type": "code",
   "execution_count": 5,
   "metadata": {},
   "outputs": [
    {
     "name": "stdout",
     "output_type": "stream",
     "text": [
      "{'title': 'Lover', 'artist': 'Taylor Swift', 'year': 2019, 'genre': ['Pop', 'Synth-pop', 'electropop'], 'tracks': {1: 'I Forgot That You Existed', 2: 'Cruel Summer', 3: 'Lover', 4: 'The Man', 5: 'The Archer', 6: 'I Think He Knows', 7: 'Miss Americana & The Heartbreak Prince', 8: 'Paper Rings', 9: 'Cornelia Street', 10: 'Death By A Thousand Cuts', 11: 'London Boy', 12: \"Soon You'll Get Better (feat. Dixie Chicks)\", 13: 'False God', 14: 'You Need To Calm Down', 15: 'Afterglow', 16: 'Me! (feat. Brendon Urie of Panic! At The Disco)', 17: \"It's Nice To Have A Friend\", 18: 'Daylight', 19: 'All Of The Girls You Loved Before'}}\n"
     ]
    }
   ],
   "source": [
    "lover_album[\"tracks\"].update({19: \"All Of The Girls You Loved Before\"})\n",
    "\n",
    "# How would add an additional genre to the dictionary, like electropop? \n",
    "lover_album[\"genre\"].append(\"electropop\")\n",
    "\n",
    "# Printing the dictionary\n",
    "print(lover_album)"
   ]
  },
  {
   "cell_type": "code",
   "execution_count": 6,
   "metadata": {},
   "outputs": [
    {
     "name": "stdout",
     "output_type": "stream",
     "text": [
      "TITLE:\n",
      "   Lover\n",
      "\n",
      "ARTIST:\n",
      "   Taylor Swift\n",
      "\n",
      "YEAR:\n",
      "   2019\n",
      "\n",
      "GENRE:\n",
      "   Pop\n",
      "   Synth-pop\n",
      "   electropop\n",
      "\n",
      "TRACKS:\n",
      "   1: I Forgot That You Existed\n",
      "   2: Cruel Summer\n",
      "   3: Lover\n",
      "   4: The Man\n",
      "   5: The Archer\n",
      "   6: I Think He Knows\n",
      "   7: Miss Americana & The Heartbreak Prince\n",
      "   8: Paper Rings\n",
      "   9: Cornelia Street\n",
      "   10: Death By A Thousand Cuts\n",
      "   11: London Boy\n",
      "   12: Soon You'll Get Better (feat. Dixie Chicks)\n",
      "   13: False God\n",
      "   14: You Need To Calm Down\n",
      "   15: Afterglow\n",
      "   16: Me! (feat. Brendon Urie of Panic! At The Disco)\n",
      "   17: It's Nice To Have A Friend\n",
      "   18: Daylight\n",
      "   19: All Of The Girls You Loved Before\n",
      "\n"
     ]
    }
   ],
   "source": [
    "# for k,v in lover_album.items(): # iterate using a for loop for key and value\n",
    "#     print(str(k) + \": \" + str(v))\n",
    "\n",
    "# Write your own code to print tracks in readable format\n",
    "\n",
    "for i in lover_album:\n",
    "    itemType = type(lover_album[i])\n",
    "    print(str(i.upper()) + \":\")\n",
    "    \n",
    "    if itemType == list or itemType == set:\n",
    "        for n in lover_album[i]:\n",
    "            print(\"   \" + str(n))\n",
    "            # not using \"\\t\" because the indent looks to big for me\n",
    "            \n",
    "    elif itemType == dict:\n",
    "        for n in lover_album[i]:\n",
    "            print(\"   \" + str(n) + \": \" + str(lover_album[i][n]))\n",
    "            \n",
    "    else:\n",
    "        print(\"   \" + str(lover_album[i]))\n",
    "        \n",
    "    print(\"\")"
   ]
  },
  {
   "cell_type": "code",
   "execution_count": 7,
   "metadata": {},
   "outputs": [
    {
     "name": "stdout",
     "output_type": "stream",
     "text": [
      "Invalid Search\n"
     ]
    }
   ],
   "source": [
    "# Using conditionals to retrieve a random song\n",
    "def search():\n",
    "    search = input(\"What would you like to know about the album?\")\n",
    "    if lover_album.get(search.lower()) == None:\n",
    "        print(\"Invalid Search\")\n",
    "    else:\n",
    "        print(lover_album.get(search.lower()))\n",
    "\n",
    "search()\n",
    "\n",
    "# This is a very basic code segment, how can you improve upon this code?\n",
    "# More complicated Indexing\n",
    "# Better formating, with more options.\n",
    "# Prompt the user again if the search was invalid"
   ]
  },
  {
   "attachments": {},
   "cell_type": "markdown",
   "metadata": {},
   "source": [
    "## Hacks\n",
    "\n",
    "- Answer *ALL* questions in the code segments\n",
    "- Create a diagram or comparison illustration (Canva).\n",
    "    - What are the pro and cons of using this data structure? \n",
    "    - Dictionary vs List    \n",
    "- Expand upon the code given to you, possible improvements in comments\n",
    "- Build your own album showing features of a python dictionary\n",
    "\n",
    "- For Mr. Yeung's class: Justify your favorite Taylor Swift song, answer may effect seed"
   ]
  },
  {
   "cell_type": "code",
   "execution_count": 8,
   "metadata": {},
   "outputs": [
    {
     "name": "stdout",
     "output_type": "stream",
     "text": [
      "{'title': 'Who did it', 'artist': 'Impostor', 'year': 2020, 'genre': ['Rap'], 'tracks': {1: \"Red's Sus\", 2: 'Report Pink', 3: 'Orange is ejected', 4: 'Red is murderd', 5: 'Victory to the crew'}}\n"
     ]
    }
   ],
   "source": [
    "amogusDrip_album = {\n",
    "    \"title\": \"Who did it\",\n",
    "    \"artist\": \"Impostor\",\n",
    "    \"year\": 2020,\n",
    "    \"genre\": [\"Rap\"],\n",
    "    \"tracks\": {\n",
    "        1: \"Red's Sus\",\n",
    "        2: \"Report Pink\",\n",
    "        3: \"Orange is ejected\",\n",
    "        4: \"Red is murderd\",\n",
    "        5: \"Victory to the crew\"\n",
    "    }\n",
    "}\n",
    "\n",
    "# Printing the dictionary\n",
    "print(amogusDrip_album)"
   ]
  },
  {
   "cell_type": "code",
   "execution_count": 9,
   "metadata": {},
   "outputs": [
    {
     "name": "stdout",
     "output_type": "stream",
     "text": [
      "Red is murderd\n",
      "Red is murderd\n"
     ]
    }
   ],
   "source": [
    "# get + index\n",
    "print(amogusDrip_album.get('tracks')[4])\n",
    "\n",
    "# double indexing\n",
    "print(amogusDrip_album['tracks'][4])"
   ]
  },
  {
   "cell_type": "code",
   "execution_count": 10,
   "metadata": {},
   "outputs": [
    {
     "name": "stdout",
     "output_type": "stream",
     "text": [
      "{'title': 'Who did it', 'artist': 'Impostor', 'year': 2020, 'genre': ['Rap'], 'tracks': {1: \"Red's Sus\", 2: 'Report Pink', 3: 'Orange is ejected', 4: 'Red is murderd', 5: 'Victory to the crew'}, 'producer': {'John Doe', 'Dwane Johnson'}}\n",
      "{'John Doe', 'Dwane Johnson'}\n"
     ]
    }
   ],
   "source": [
    "amogusDrip_album[\"producer\"] = set(['John Doe', 'Dwane Johnson'])\n",
    "\n",
    "# Printing the dictionary\n",
    "print(amogusDrip_album)\n",
    "\n",
    "# Printing the producer set\n",
    "print(amogusDrip_album[\"producer\"])"
   ]
  },
  {
   "cell_type": "code",
   "execution_count": 11,
   "metadata": {},
   "outputs": [],
   "source": [
    "amogusDrip_album[\"genre\"].append(\"Pop\")"
   ]
  },
  {
   "cell_type": "code",
   "execution_count": 12,
   "metadata": {},
   "outputs": [
    {
     "name": "stdout",
     "output_type": "stream",
     "text": [
      "Title: Who did it\n",
      "Artist: Impostor\n",
      "Producer(s):\n",
      "- John Doe\n",
      "- Dwane Johnson\n",
      "Year: 2020\n",
      "Genres:\n",
      "- Rap\n",
      "- Pop\n",
      "Tracks:\n",
      "1. Red's Sus\n",
      "2. Report Pink\n",
      "3. Orange is ejected\n",
      "4. Red is murderd\n",
      "5. Victory to the crew\n"
     ]
    }
   ],
   "source": [
    "print(f\"Title: {amogusDrip_album['title']}\")\n",
    "print(f\"Artist: {amogusDrip_album['artist']}\")\n",
    "print('Producer(s):')\n",
    "for prod in amogusDrip_album['producer']:\n",
    "    print(f\"- {prod}\")\n",
    "print(f\"Year: {amogusDrip_album['year']}\")\n",
    "print(\"Genres:\")\n",
    "for genre in amogusDrip_album['genre']:\n",
    "    print(f\"- {genre}\")\n",
    "print(\"Tracks:\")\n",
    "for track_number, track_title in amogusDrip_album['tracks'].items():\n",
    "    print(f\"{track_number}. {track_title}\")"
   ]
  },
  {
   "cell_type": "code",
   "execution_count": 13,
   "metadata": {},
   "outputs": [
    {
     "name": "stdout",
     "output_type": "stream",
     "text": [
      "\n",
      " Select an option from the list below:\n",
      "title\n",
      "artist\n",
      "year\n",
      "genre\n",
      "tracks\n",
      "producer\n",
      "\n",
      " Title: Who did it \n",
      "\n",
      "\n",
      " Select an option from the list below:\n",
      "title\n",
      "artist\n",
      "year\n",
      "genre\n",
      "tracks\n",
      "producer\n"
     ]
    }
   ],
   "source": [
    "# blank options list\n",
    "options = []\n",
    "\n",
    "#loops through the keys and values in the album dictionary above\n",
    "for k,v in amogusDrip_album.items(): # iterate using a for loop for key and value\n",
    "    options.append(str(k.lower())) # appends keys to options list\n",
    "\n",
    "# Define the menu function\n",
    "def menu():\n",
    "    # Display the menu options\n",
    "    print('\\n Select an option from the list below:')\n",
    "    for option in options:\n",
    "        print(option)\n",
    "\n",
    "    # Get the user's choice\n",
    "    search = input(\"What would you like to know about the album from the list of properties shown? Type the full word or press enter to exit.\").lower()\n",
    "\n",
    "    # Find the selected option in the options list\n",
    "    selected_option = None\n",
    "    for option in options:\n",
    "        if search == str(option):\n",
    "            selected_option = str(option)\n",
    "            break\n",
    "    \n",
    "\n",
    "    if selected_option == \"title\":\n",
    "        print(f'\\n Title: {amogusDrip_album[options[0]]} \\n')\n",
    "    elif selected_option == \"artist\":\n",
    "        print(f'\\n Artist: {amogusDrip_album[options[1]]} \\n')\n",
    "    elif selected_option == \"year\":\n",
    "        print(f'\\n Year: {amogusDrip_album[options[2]]} \\n')\n",
    "    elif selected_option == \"genre\":\n",
    "        print(\"\\n Genre(s):\")\n",
    "        for g in amogusDrip_album['genre']:\n",
    "            print(f\"- {g}\")\n",
    "    elif selected_option == \"tracks\":\n",
    "        print(\"\\n Tracks:\")\n",
    "        for track_number, track_title in amogusDrip_album['tracks'].items():\n",
    "            print(f\"{track_number}) {track_title}\")\n",
    "    elif selected_option == \"producer\":\n",
    "        print(\"\\n Producer(s):\")\n",
    "        for p in amogusDrip_album['producer']:\n",
    "            print(f\"- {p}\")\n",
    "    elif search == \"\":\n",
    "        return\n",
    "    else:\n",
    "        print(\"\\n Property not found. Please try again. \\n\")\n",
    "\n",
    "    # Repeat the menu\n",
    "    menu()\n",
    "\n",
    "menu()\n"
   ]
  }
 ],
 "metadata": {
  "kernelspec": {
   "display_name": "Python 3.9.12 ('base')",
   "language": "python",
   "name": "python3"
  },
  "language_info": {
   "codemirror_mode": {
    "name": "ipython",
    "version": 3
   },
   "file_extension": ".py",
   "mimetype": "text/x-python",
   "name": "python",
   "nbconvert_exporter": "python",
   "pygments_lexer": "ipython3",
   "version": "3.9.12"
  },
  "orig_nbformat": 4,
  "vscode": {
   "interpreter": {
    "hash": "eebbb108244c1ba77f1cb415be6e9567dfea2d09567dcc4fbd86eba351ce5445"
   }
  }
 },
 "nbformat": 4,
 "nbformat_minor": 2
}
