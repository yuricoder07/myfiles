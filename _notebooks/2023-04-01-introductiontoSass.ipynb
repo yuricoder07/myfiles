{
 "cells": [
  {
   "cell_type": "markdown",
   "metadata": {},
   "source": [
    "#  Introduction to SASS\n",
    "> Understanding the fundamental aspects of SASS\n",
    "- toc: true\n",
    "- categories: []"
   ]
  },
  {
   "cell_type": "markdown",
   "metadata": {},
   "source": [
    "# What is SASS?\n",
    "\n",
    "> #### Sass is a preprocessor language that's interpreted into CSS. A preprocessor language takes input data and converts it to an output that's used as input by another program. This means when you run Sass code, you're actually converting your code to CSS. That CSS code output is then used directly by a browser.\n",
    "![](https://encrypted-tbn0.gstatic.com/images?q=tbn:ANd9GcTMd7eiGMX9FwRLC0uJTDewSjw_7_WvCF4ABLdwztLrCnPEXrqW0gG-pH8eT-fYPLlghjY&usqp=CAU)"
   ]
  },
  {
   "cell_type": "markdown",
   "metadata": {},
   "source": [
    "# Variables\n",
    "\n",
    "> #### Variables in CSS preprocessors such as Sass allow you to store information that you can reuse in your stylesheet, such as font stacks, colors, or any other CSS value you anticipate needing. The $ symbol is used in Sass to designate a variable. \n",
    "Below is an example:"
   ]
  },
  {
   "cell_type": "markdown",
   "metadata": {},
   "source": [
    "## Sass\n",
    "```\n",
    "$font-stack: Helvetica, sans-serif;\n",
    "$primary-color: #333;\n",
    "\n",
    "body {\n",
    "  font: 100% $font-stack;\n",
    "  color: $primary-color;\n",
    "}\n",
    "```\n",
    "\n",
    "## Css\n",
    "```\n",
    "body {\n",
    "  font: 100% Helvetica, sans-serif;\n",
    "  color: #333;\n",
    "}\n",
    "```\n",
    "> #### Once Sass is processed, it generates standard CSS by inserting the values we assigned to variables such as ``$font-stack`` and ``$primary-color``. This functionality can prove invaluable when dealing with brand colors and ensuring their consistency throughout the website.\n",
    "\n"
   ]
  },
  {
   "cell_type": "markdown",
   "metadata": {},
   "source": [
    "# Nesting\n",
    "\n",
    "> #### While composing HTML, you might have observed that it exhibits an explicit nested and visual structure. However, CSS lacks such a hierarchy. On the contrary, Sass allows you to nest your CSS selectors in a manner that aligns with the visual hierarchy of your HTML. Nonetheless, excessive nesting may generate overly qualified CSS, which can be challenging to maintain and is usually considered undesirable.Keeping this in consideration, here's a sample of common styles for a website's navigation:\n",
    "\n",
    "\n",
    "## Sass\n",
    "\n",
    "```\n",
    "nav {\n",
    "  ul {\n",
    "    margin: 0;\n",
    "    padding: 0;\n",
    "    list-style: none;\n",
    "  }\n",
    "\n",
    "  li { display: inline-block; }\n",
    "\n",
    "  a {\n",
    "    display: block;\n",
    "    padding: 6px 12px;\n",
    "    text-decoration: none;\n",
    "  }\n",
    "}\n",
    "```\n",
    "\n",
    "## Css\n",
    "\n",
    "```\n",
    "nav ul {\n",
    "  margin: 0;\n",
    "  padding: 0;\n",
    "  list-style: none;\n",
    "}\n",
    "nav li {\n",
    "  display: inline-block;\n",
    "}\n",
    "nav a {\n",
    "  display: block;\n",
    "  padding: 6px 12px;\n",
    "  text-decoration: none;\n",
    "}\n",
    "```\n",
    "\n",
    "> #### As you observe, the ul, li, and a selectors are enclosed within the nav selector. This approach is highly beneficial in arranging your CSS and enhancing its readability.\n",
    "\n"
   ]
  },
  {
   "cell_type": "markdown",
   "metadata": {},
   "source": [
    "# Modules\n",
    "\n",
    "> #### It is not mandatory to write all of your Sass code in a single file. You can divide it into multiple files as per your preference by utilizing the \"@use\" rule. This rule imports another Sass file as a module, enabling you to reference its variables, mixins, and functions in your Sass code using a namespace derived from the file name. Additionally, by using a file, the CSS it produces will also be included in the compiled output.\n",
    "\n",
    "## Sass\n",
    "\n",
    "```\n",
    "// _base.scss\n",
    "$font-stack: Helvetica, sans-serif;\n",
    "$primary-color: #333;\n",
    "\n",
    "body {\n",
    "  font: 100% $font-stack;\n",
    "  color: $primary-color;\n",
    "}\n",
    "```\n",
    "\n",
    "```\n",
    "// styles.scss\n",
    "@use 'base';\n",
    "\n",
    ".inverse {\n",
    "  background-color: base.$primary-color;\n",
    "  color: white;\n",
    "}\n",
    "```\n",
    "\n",
    "## Css\n",
    "\n",
    "```\n",
    "body {\n",
    "  font: 100% Helvetica, sans-serif;\n",
    "  color: #333;\n",
    "}\n",
    "\n",
    ".inverse {\n",
    "  background-color: #333;\n",
    "  color: white;\n",
    "}\n",
    "```\n",
    "\n",
    "> #### Observe that in the styles.scss file, we are employing \"@use 'base';\". If you utilize a file, there's no requirement to add the file extension. Sass is intelligent enough to comprehend it by itself."
   ]
  }
 ],
 "metadata": {
  "kernelspec": {
   "display_name": "Python 3.9.12 ('base')",
   "language": "python",
   "name": "python3"
  },
  "language_info": {
   "name": "python",
   "version": "3.9.12"
  },
  "orig_nbformat": 4,
  "vscode": {
   "interpreter": {
    "hash": "eebbb108244c1ba77f1cb415be6e9567dfea2d09567dcc4fbd86eba351ce5445"
   }
  }
 },
 "nbformat": 4,
 "nbformat_minor": 2
}
