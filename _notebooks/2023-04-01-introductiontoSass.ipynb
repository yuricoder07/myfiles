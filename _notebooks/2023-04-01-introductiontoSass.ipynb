{
 "cells": [
  {
   "cell_type": "markdown",
   "metadata": {},
   "source": [
    "#  Introduction to SASS\n",
    "> Understanding the fundamental aspects of SASS\n",
    "- toc: true\n",
    "- categories: []"
   ]
  },
  {
   "cell_type": "markdown",
   "metadata": {},
   "source": [
    "# What is SASS?\n",
    "\n",
    "#### Sass is a preprocessor language that's interpreted into CSS. A preprocessor language takes input data and converts it to an output that's used as input by another program. This means when you run Sass code, you're actually converting your code to CSS. That CSS code output is then used directly by a browser."
   ]
  },
  {
   "cell_type": "markdown",
   "metadata": {},
   "source": [
    "# Variables\n",
    "\n",
    "#### Variables in CSS preprocessors such as Sass allow you to store information that you can reuse in your stylesheet, such as font stacks, colors, or any other CSS value you anticipate needing. The $ symbol is used in Sass to designate a variable. Below is an example:"
   ]
  },
  {
   "cell_type": "markdown",
   "metadata": {},
   "source": [
    "# Sass\n",
    "```\n",
    "SCSS SYNTAX\n",
    "$font-stack: Helvetica, sans-serif;\n",
    "$primary-color: #333;\n",
    "\n",
    "body {\n",
    "  font: 100% $font-stack;\n",
    "  color: $primary-color;\n",
    "}\n",
    "```\n",
    "\n",
    "## Vs\n",
    "\n",
    "# Css\n",
    "```\n",
    "body {\n",
    "  font: 100% Helvetica, sans-serif;\n",
    "  color: #333;\n",
    "}\n",
    "```\n",
    "#### Once Sass is processed, it generates standard CSS by inserting the values we assigned to variables such as ``$font-stack`` and ``$primary-color``. This functionality can prove invaluable when dealing with brand colors and ensuring their consistency throughout the website.\n",
    "\n"
   ]
  }
 ],
 "metadata": {
  "kernelspec": {
   "display_name": "Python 3.9.12 ('base')",
   "language": "python",
   "name": "python3"
  },
  "language_info": {
   "name": "python",
   "version": "3.9.12"
  },
  "orig_nbformat": 4,
  "vscode": {
   "interpreter": {
    "hash": "eebbb108244c1ba77f1cb415be6e9567dfea2d09567dcc4fbd86eba351ce5445"
   }
  }
 },
 "nbformat": 4,
 "nbformat_minor": 2
}
