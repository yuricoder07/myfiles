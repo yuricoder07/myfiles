{
 "cells": [
  {
   "cell_type": "markdown",
   "metadata": {},
   "source": [
    "#  Functions in SASS\n",
    "> Understanding the fundamental aspects of functions in SASS\n",
    "- toc: true\n",
    "- categories: []"
   ]
  },
  {
   "cell_type": "markdown",
   "metadata": {},
   "source": [
    "## SASS functions\n",
    "\n",
    "> #### Sass Functions allow you to define complex calculations and transformations that can be used throughout your stylesheet."
   ]
  },
  {
   "cell_type": "markdown",
   "metadata": {},
   "source": [
    "## What are SASS functions?\n",
    "\n",
    "> #### Functions are a powerful feature in SASS that allow you to perform complex operations on values, manipulate data, and generate content dynamically. SASS functions can be used to perform arithmetic operations, manipulate colors, work with strings, and more.\n",
    "\n",
    "> #### Functions in SASS are similar to functions in programming languages, but they can be used within SASS stylesheets to generate CSS code dynamically.\n",
    "\n"
   ]
  },
  {
   "cell_type": "markdown",
   "metadata": {},
   "source": [
    "## Using Built-in Functions\n",
    "\n",
    "> #### SASS provides a variety of built-in functions that you can use to perform operations like math, color manipulation, string manipulation, and more. Here are some examples of built-in functions and how to use them."
   ]
  },
  {
   "cell_type": "markdown",
   "metadata": {},
   "source": [
    "## Math Functions\n",
    "\n",
    "> #### SASS provides a number of math functions that allow you to perform arithmetic operations on values. Here are some examples:"
   ]
  },
  {
   "cell_type": "markdown",
   "metadata": {},
   "source": [
    "```\n",
    ".round(1.2);          // returns 1\n",
    ".ceil(1.2);           // returns 2\n",
    ".floor(1.2);          // returns 1\n",
    ".abs(-1.2);           // returns 1.2\n",
    ".min(1, 2, 3);        // returns 1\n",
    ".max(1, 2, 3);        // returns 3\n",
    ".random(1, 100);      // returns a random number between 1 and 100\n",
    "```"
   ]
  },
  {
   "cell_type": "markdown",
   "metadata": {},
   "source": [
    "## Color Functions\n",
    "\n",
    "> #### SASS provides a variety of color functions that allow you to manipulate colors. Here are some examples:\n",
    "\n"
   ]
  },
  {
   "cell_type": "markdown",
   "metadata": {},
   "source": [
    "```\n",
    ".lighten(#007fff, 20%);       // returns a lighter shade of blue\n",
    ".darken(#007fff, 20%);        // returns a darker shade of blue\n",
    ".opacify(#007fff, 0.2);       // makes the color more opaque\n",
    ".transparentize(#007fff, 0.2); // makes the color more transparent\n",
    ".mix(#007fff, #ff0000, 50%);  // returns a mix of two colors\n",
    "```"
   ]
  },
  {
   "cell_type": "markdown",
   "metadata": {},
   "source": [
    "## String Functions\n",
    "\n",
    "> #### SASS provides a variety of string functions that allow you to manipulate strings. Here are some examples:\n",
    "\n"
   ]
  },
  {
   "cell_type": "markdown",
   "metadata": {},
   "source": [
    "```\n",
    ".to-upper-case(\"hello world\");  // returns \"HELLO WORLD\"\n",
    ".to-lower-case(\"HELLO WORLD\");  // returns \"hello world\"\n",
    ".str-index(\"hello world\", \"world\"); // returns the index of the first occurrence of \"world\"\n",
    ".str-insert(\"hello\", \" world\", 5);  // inserts \" world\" into \"hello\" at position 5\n",
    "```"
   ]
  },
  {
   "cell_type": "markdown",
   "metadata": {},
   "source": [
    "## Creating Custom Functions\n",
    "\n",
    "> #### In addition to using built-in functions, you can also create your own functions in SASS using the ``@function`` directive. Functions take input values, perform calculations, and return a result. Here's an example of a simple function that calculates the area of a rectangle:\n",
    "\n",
    "\n",
    "\n"
   ]
  },
  {
   "cell_type": "markdown",
   "metadata": {},
   "source": [
    "```\n",
    "@function rectangle-area($width, $height) {\n",
    "  @return $width * $height;\n",
    "}\n",
    "\n",
    "// Usage:\n",
    "$area: rectangle-area(10px, 20px); // Returns 200px\n",
    "```"
   ]
  },
  {
   "cell_type": "markdown",
   "metadata": {},
   "source": [
    "> #### Custom functions can be very powerful, and can be used to create reusable pieces of code that can be used throughout your stylesheets."
   ]
  },
  {
   "cell_type": "markdown",
   "metadata": {},
   "source": [
    "## Conclusion\n",
    "\n",
    "> #### SASS functions are a powerful feature that allow you to perform complex operations on values, manipulate data, and generate content dynamically. By using built-in functions and creating your own custom functions, you can greatly extend the capabilities of your SASS stylesheets."
   ]
  }
 ],
 "metadata": {
  "kernelspec": {
   "display_name": "Python 3.9.12 ('base')",
   "language": "python",
   "name": "python3"
  },
  "language_info": {
   "name": "python",
   "version": "3.9.12"
  },
  "orig_nbformat": 4,
  "vscode": {
   "interpreter": {
    "hash": "eebbb108244c1ba77f1cb415be6e9567dfea2d09567dcc4fbd86eba351ce5445"
   }
  }
 },
 "nbformat": 4,
 "nbformat_minor": 2
}
