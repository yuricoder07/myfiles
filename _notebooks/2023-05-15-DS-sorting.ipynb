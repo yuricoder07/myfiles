{
 "cells": [
  {
   "attachments": {},
   "cell_type": "markdown",
   "metadata": {},
   "source": [
    "# Sorting Algorithms\n",
    "> Working with Data Structures and manipulating data.\n",
    "\n",
    "- toc: true\n",
    "- comment: true\n",
    "- badges: true\n",
    "- permalink: /week34/sorting\n",
    "- categories: [week 34]"
   ]
  },
  {
   "attachments": {},
   "cell_type": "markdown",
   "metadata": {},
   "source": [
    "[wget link](https://raw.githubusercontent.com/nighthawkcoders/APCSP/master/_notebooks/2023-05-15-DS-sorting.ipynb)"
   ]
  },
  {
   "cell_type": "code",
   "execution_count": 1,
   "metadata": {},
   "outputs": [
    {
     "name": "stdout",
     "output_type": "stream",
     "text": [
      "Random List\n",
      "[70, 88, 8, 54, 95, 47, 71, 90, 20, 36]\n"
     ]
    }
   ],
   "source": [
    "import random\n",
    "\n",
    "numbers = []\n",
    "for i in range(10):\n",
    "    numbers.append(random.randint(0,100))\n",
    "print(\"Random List\")\n",
    "print(numbers)"
   ]
  },
  {
   "attachments": {},
   "cell_type": "markdown",
   "metadata": {},
   "source": [
    "# Warm Up\n",
    "\n",
    "> Discuss with a partner... \n",
    "What are some strategies you would use to sort this list? (Don't worry about writing code for now)\n",
    "- I will locate the smallest number in the list and place it at the beginning. Subsequently, I will disregard that number and repeat the procedure until the list is sorted."
   ]
  },
  {
   "attachments": {},
   "cell_type": "markdown",
   "metadata": {},
   "source": [
    "# Explore\n",
    "\n",
    "Get into groups of 3\n",
    "\n",
    "We will be focusing on 4 algorithms today.\n",
    "\n",
    "We will look at the first one together, Bubble Sort\n",
    "\n",
    "![bubble-sort](https://github.com/Azeem-Khan1/fastpages-project/assets/111464932/c5dca44f-d74e-4598-b78e-9ec7a6c00812)\n",
    "\n",
    "What is happening with this sort?\n",
    "> It compares consecutive elements and sorts in a linear fashion.\n",
    "\n",
    "In your groups you will each choose to be an expert on a sorting algorithm. Merge, Selection, and Insertion.\n",
    "Take about 5 minutes to read about your algorithm and be ready to explain it to your other group members. \n",
    "\n",
    "[Merge](https://www.geeksforgeeks.org/merge-sort/#)\n",
    "\n",
    "[Selection](https://www.geeksforgeeks.org/selection-sort/)\n",
    "\n",
    "[Insertion](https://www.geeksforgeeks.org/insertion-sort/)"
   ]
  },
  {
   "attachments": {},
   "cell_type": "markdown",
   "metadata": {},
   "source": [
    "## Practice\n",
    "\n",
    "[75, 17, 46, 80, 67, 45, 69, 79, 40, 0]\n",
    "\n",
    "Would you sort this list with... \n",
    "- Bubble Sort\n",
    "- ``Selection Sort``\n",
    "> Selection sort because it would be faster since the 0 and 75 would swap, making it closer to being sorted quicker.\n",
    "\n",
    "[88, 39, 53, 39, 58, 43, 74, 81, 71, 51]\n",
    "\n",
    "Would you sort this list with... \n",
    "- Merge Sort\n",
    "- ``Insertion Sort`</mark`>`\n",
    "> Insertion because it has a faster time complexity than if merge sort was used."
   ]
  },
  {
   "attachments": {},
   "cell_type": "markdown",
   "metadata": {},
   "source": [
    "# Sorting Words\n",
    "> Sorting strings works in the same way as integers. Using your expertise algorithm, sort the following list of random words."
   ]
  },
  {
   "cell_type": "code",
   "execution_count": 1,
   "metadata": {},
   "outputs": [
    {
     "name": "stderr",
     "output_type": "stream",
     "text": [
      "[nltk_data] Downloading package words to /home/azeemk/nltk_data...\n",
      "[nltk_data]   Unzipping corpora/words.zip.\n"
     ]
    },
    {
     "name": "stdout",
     "output_type": "stream",
     "text": [
      "Random List\n",
      "['zinco', 'spendible', 'mesodermal', 'consequentialness', 'unidealist', 'blepharophryplasty', 'autotypic', 'Heracleidan', 'spike', 'haruspices']\n"
     ]
    }
   ],
   "source": [
    "import nltk\n",
    "import random\n",
    "\n",
    "nltk.download('words')  # Download the word list (only required once)\n",
    "\n",
    "from nltk.corpus import words\n",
    "\n",
    "english_words = words.words()\n",
    "#print(len(english_words))  # Prints the number of words in the list\n",
    "\n",
    "# You can now use the 'english_words' list in your code\n",
    "\n",
    "words = []\n",
    "for i in range(10):\n",
    "    words.append(english_words[random.randint(0,len(english_words))])\n",
    "print(\"Random List\")\n",
    "print(words)"
   ]
  },
  {
   "attachments": {},
   "cell_type": "markdown",
   "metadata": {},
   "source": [
    "## Discuss \n",
    "Answer the following with your group.\n",
    "\n",
    "- When should you use each algorithm? What makes an algorithm the right choice?\n",
    "- Given the following lists...\n",
    "    - [0, 2, 6, 4, 8, 10]\n",
    "    > Insertion sort because you would only move one thing.\n",
    "    - [Elephant, Banana, Cat, Dog, Apple]\n",
    "    > Selection sort because it would only take one pass\n",
    "    - [29, 13, 83, 47, 32, 78, 100, 60, 65, 15, 24, 9, 40, 68, 53, 8, 90, 58, 39, 32, 34, 91, 74, 94, 49, 87, 34, 87, 23, 17, 27, 2, 38, 58, 84, 15, 9, 46, 74, 40, 44, 8, 55, 28, 81, 92, 81, 88, 53, 38, 19, 21, 9, 54, 21, 67, 3, 41, 3, 74, 13, 71, 70, 45, 5, 36, 80, 64, 97, 86, 73, 74, 94, 79, 49, 32, 20, 68, 64, 69, 1, 77, 31, 56, 100, 80, 48, 75, 85, 93, 67, 57, 26, 56, 43, 53, 59, 28, 67, 50]\n",
    "    > Merge sort because it's a long list.\n",
    "Select the algorithm you believe is best for each, explain."
   ]
  },
  {
   "attachments": {},
   "cell_type": "markdown",
   "metadata": {},
   "source": [
    "## HACKS\n",
    "> Provided below is a Bubble Sort Algorithm sorting a list of dictionaries based off of selected key.\n",
    "\n",
    "- Now it's time to do some coding...\n",
    "\n",
    "- Run code and then research and answer these questions...\n",
    "    - Is a list and/or dictionary in python considered a primitive or collection type?  Why?\n",
    "    > List and dictionary are categorized as collection types instead of primitive types. They utilize sophisticated data structures and algorithms compared to primitive types. In Python, a list is commonly implemented as a dynamic array, while a dictionary is typically implemented using a hash table. These data structures and algorithms are more intricate compared to those employed for primitive types, hence the classification of list and dictionary as collection types.\n",
    "    - Is the list passed into bubble sort \"pass-by-value\" or \"pass-by-reference? Describe why in relation to output.\n",
    "    > The list passed into bubble sort is passed by reference, not by value. When a variable is passed as an argument to a function, a reference to the object is passed, not a copy of the object itself. \n",
    "- Implement new cell(s) and/or organize cells to do the following.\n",
    "    - Create your own list\n",
    "    - Use your expertise sorting algorithm (selection, insertion, merge). Note, I got my bubble sort from Geek for Geeks and made modifications. Each student in a group should have a unique algorithm.\n",
    "    - Test your list with my bubble sort\n",
    "    - Test my list with your new sort, do NOT make a copy my list when doing this\n",
    "    - Research analysis on sorting: comparisons, swaps, time.  Build this into your hacks.\n",
    "    - Find a better way to print the data, key first, then other elements in viewable form.\n",
    "\n",
    "Use the code below to help guide your adventure"
   ]
  },
  {
   "cell_type": "code",
   "execution_count": 5,
   "metadata": {},
   "outputs": [
    {
     "name": "stdout",
     "output_type": "stream",
     "text": [
      "[9, 12, 17, 26, 33, 44]\n",
      "['burger', 'chicken', 'nachos', 'pasta', 'pizza', 'wings']\n",
      "[1, 20, 24, 26, 50, 54, 82, 98, 100, 399]\n",
      "['bird', 'cat', 'dog', 'fish', 'hamster', 'turtle']\n"
     ]
    }
   ],
   "source": [
    "\n",
    "# Selection sort [Arrays]\n",
    "def selectionSort1(arr): # takes in an array\n",
    "    for i in range(len(arr)): # first iteration\n",
    "        min_idx = i\n",
    "        for j in range(i+1, len(arr)): # second iteration\n",
    "            if arr[j] < arr[min_idx]:\n",
    "                min_idx = j\n",
    "        arr[i], arr[min_idx] = arr[min_idx], arr[i]\n",
    "    return arr\n",
    "\n",
    "num1 = [9, 33, 17, 26, 44, 12]\n",
    "str1 = [\"pasta\", \"chicken\", \"pizza\", \"wings\", \"nachos\", \"burger\"]\n",
    "num2 = [100, 50, 20, 24, 54, 26, 82, 1, 98, 399]\n",
    "str2 = [\"dog\", \"cat\", \"bird\", \"hamster\", \"fish\", \"turtle\"]\n",
    "\n",
    "print(selectionSort1(num1))\n",
    "print(selectionSort1(str1))\n",
    "print(selectionSort1(num2))\n",
    "print(selectionSort1(str2))"
   ]
  },
  {
   "cell_type": "code",
   "execution_count": 8,
   "metadata": {},
   "outputs": [
    {
     "name": "stdout",
     "output_type": "stream",
     "text": [
      "Sorted by item:\n",
      "\tItem: Burger\n",
      "\tRating: 8\n",
      "\tDescription: Burger\n",
      "\n",
      "\tItem: Chicken\n",
      "\tRating: 10\n",
      "\tDescription: Chicken\n",
      "\n",
      "\tItem: Pasta\n",
      "\tRating: 6\n",
      "\tDescription: Pasta\n",
      "\n",
      "\tItem: Salad\n",
      "\tRating: 3\n",
      "\tDescription: Salad\n",
      "\n",
      "Sorted by rating:\n",
      "\tItem: Salad\n",
      "\tRating: 3\n",
      "\tDescription: Salad\n",
      "\n",
      "\tItem: Pasta\n",
      "\tRating: 6\n",
      "\tDescription: Pasta\n",
      "\n",
      "\tItem: Burger\n",
      "\tRating: 8\n",
      "\tDescription: Burger\n",
      "\n",
      "\tItem: Chicken\n",
      "\tRating: 10\n",
      "\tDescription: Chicken\n",
      "\n",
      "Sorted by Description:\n",
      "\tItem: Burger\n",
      "\tRating: 8\n",
      "\tDescription: Burger\n",
      "\n",
      "\tItem: Chicken\n",
      "\tRating: 10\n",
      "\tDescription: Chicken\n",
      "\n",
      "\tItem: Pasta\n",
      "\tRating: 6\n",
      "\tDescription: Pasta\n",
      "\n",
      "\tItem: Salad\n",
      "\tRating: 3\n",
      "\tDescription: Salad\n",
      "\n"
     ]
    }
   ],
   "source": [
    "\n",
    "# Selection sort [Dictionaries iterating through key's and values]\n",
    "def selectionSort2(lst, key):\n",
    "    n = len(lst)\n",
    "    for i in range(n):\n",
    "        min_idx = i\n",
    "        for j in range(i+1, n):\n",
    "            if lst[j][key] < lst[min_idx][key]:\n",
    "                min_idx = j\n",
    "        lst[i], lst[min_idx] = lst[min_idx], lst[i]\n",
    "    return lst\n",
    "# function for displaying neatly\n",
    "def display(lst, key):\n",
    "    sorted_list = selectionSort2(lst, key)\n",
    "    print(\"Sorted by\", key + \":\")\n",
    "    for person in sorted_list:\n",
    "        print(\"\\tItem:\", person['item'])\n",
    "        print(\"\\tRating:\", person['rating'])\n",
    "        print(\"\\tDescription:\", person['Description'])\n",
    "        print(\"\")\n",
    "\n",
    "foodDictionary = [\n",
    "    {\"item\": \"Chicken\", \"rating\": 10, \"Description\": \"Chicken\"},\n",
    "    {\"item\": \"Pasta\", \"rating\": 6, \"Description\": \"Pasta\"},\n",
    "    {\"item\": \"Salad\", \"rating\": 3, \"Description\": \"Salad\"},\n",
    "    {\"item\": \"Burger\", \"rating\": 8, \"Description\": \"Burger\"}\n",
    "]\n",
    "\n",
    "key_row = foodDictionary[0]\n",
    "\n",
    "for key in key_row:\n",
    "    display(foodDictionary, key)"
   ]
  },
  {
   "cell_type": "code",
   "execution_count": 3,
   "metadata": {},
   "outputs": [
    {
     "name": "stdout",
     "output_type": "stream",
     "text": [
      "Original\n",
      "[{'name': 'Risa', 'age': 18, 'city': 'New York'}, {'name': 'John', 'age': 63, 'city': 'Eugene'}, {'name': 'Shekar', 'age': 18, 'city': 'San Francisco'}, {'name': 'Ryan', 'age': 21, 'city': 'Los Angeles'}]\n",
      "Sorted by name\n",
      "[{'name': 'John', 'age': 63, 'city': 'Eugene'}, {'name': 'Risa', 'age': 18, 'city': 'New York'}, {'name': 'Ryan', 'age': 21, 'city': 'Los Angeles'}, {'name': 'Shekar', 'age': 18, 'city': 'San Francisco'}]\n",
      "Sorted by age\n",
      "[{'name': 'Risa', 'age': 18, 'city': 'New York'}, {'name': 'Shekar', 'age': 18, 'city': 'San Francisco'}, {'name': 'Ryan', 'age': 21, 'city': 'Los Angeles'}, {'name': 'John', 'age': 63, 'city': 'Eugene'}]\n",
      "Sorted by city\n",
      "[{'name': 'John', 'age': 63, 'city': 'Eugene'}, {'name': 'Ryan', 'age': 21, 'city': 'Los Angeles'}, {'name': 'Risa', 'age': 18, 'city': 'New York'}, {'name': 'Shekar', 'age': 18, 'city': 'San Francisco'}]\n"
     ]
    }
   ],
   "source": [
    "\"\"\"\n",
    "* Creator: Nighthawk Coding Society\n",
    "Bubble Sort of a List with optimizations\n",
    "\"\"\"\n",
    "\n",
    "# bubble sorts a list of dictionaries, base off of provided key\n",
    "def bubbleSort(list, key):\n",
    "    n = len(list) - 1  # list are indexed 0 to n-1, len is n\n",
    "    \n",
    "    # Traverse through list with i index\n",
    "    for i in range(n):\n",
    "        swapped = False  # optimize code, so it exits if now swaps on inner loop\n",
    "\n",
    "        # Inner traversal using j index\n",
    "        for j in range(n-i):  # n-i as positions on right are in order in bubble\n",
    " \n",
    "            # Swap if the element KeyN is greater KeyN1\n",
    "            keyN = list[j].get(key)\n",
    "            keyN1 = list[j+1].get(key)\n",
    "            if keyN > keyN1:\n",
    "                swapped = True\n",
    "                list[j], list[j + 1] = list[j + 1], list[j]  # single line swap\n",
    "         \n",
    "        if not swapped:  # if no swaps on inner pass, list is sorted\n",
    "            return  # exit function\n",
    "    \n",
    "\n",
    "if __name__ == \"__main__\":\n",
    "    # list/dictionary sample\n",
    "    list_of_people = [\n",
    "    {\"name\": \"Risa\", \"age\": 18, \"city\": \"New York\"},\n",
    "    {\"name\": \"John\", \"age\": 63, \"city\": \"Eugene\"},\n",
    "    {\"name\": \"Shekar\", \"age\": 18, \"city\": \"San Francisco\"},\n",
    "    {\"name\": \"Ryan\", \"age\": 21, \"city\": \"Los Angeles\"}\n",
    "    ]\n",
    "    \n",
    "    # assuming uniform keys, pick 1st row as source of keys\n",
    "    key_row = list_of_people[0]\n",
    "\n",
    "    # print list as defined\n",
    "    print(\"Original\")\n",
    "    print(list_of_people)\n",
    "    \n",
    "    for key in key_row:  # finds each key in the row\n",
    "        print(\"Sorted by \" + key)\n",
    "        bubbleSort(list_of_people, key)  # sort list of people\n",
    "        print(list_of_people)"
   ]
  }
 ],
 "metadata": {
  "kernelspec": {
   "display_name": "Python 3.9.12 ('base')",
   "language": "python",
   "name": "python3"
  },
  "language_info": {
   "codemirror_mode": {
    "name": "ipython",
    "version": 3
   },
   "file_extension": ".py",
   "mimetype": "text/x-python",
   "name": "python",
   "nbconvert_exporter": "python",
   "pygments_lexer": "ipython3",
   "version": "3.9.12"
  },
  "orig_nbformat": 4,
  "vscode": {
   "interpreter": {
    "hash": "eebbb108244c1ba77f1cb415be6e9567dfea2d09567dcc4fbd86eba351ce5445"
   }
  }
 },
 "nbformat": 4,
 "nbformat_minor": 2
}
